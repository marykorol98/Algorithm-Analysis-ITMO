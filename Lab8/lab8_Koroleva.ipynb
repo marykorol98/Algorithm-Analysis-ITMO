{
  "cells": [
    {
      "cell_type": "markdown",
      "metadata": {
        "id": "vmz93Dz13j6h"
      },
      "source": [
        "# Naive String Matcher algorithm"
      ]
    },
    {
      "cell_type": "code",
      "execution_count": 1,
      "metadata": {
        "id": "SOxN6bjLHEEg"
      },
      "outputs": [],
      "source": [
        "def NSM(T, P):\n",
        "  '''\n",
        "  Finds a fragment P in a text T by use of Naive string matcher algorithm\n",
        "\n",
        "  Params:\n",
        "  T - str, a text in which the search will be implemented\n",
        "  P - str, a substring to be found in T\n",
        "\n",
        "  Output:\n",
        "  s - array of integers, the shifts (the indices where P is found in T)\n",
        "  '''\n",
        "  shifts = []\n",
        "  n, m = len(T), len(P)\n",
        "  for s in range(n-m + 1):\n",
        "        if P == T[s+1 : s+m+1]:\n",
        "            shifts.append(s)\n",
        "  return shifts"
      ]
    },
    {
      "cell_type": "code",
      "execution_count": 3,
      "metadata": {
        "colab": {
          "base_uri": "https://localhost:8080/"
        },
        "id": "AGR-YtPS4lLh",
        "outputId": "1ec8dce3-8706-4756-f335-3ef55fe504c8"
      },
      "outputs": [
        {
          "data": {
            "text/plain": [
              "[20]"
            ]
          },
          "execution_count": 3,
          "metadata": {},
          "output_type": "execute_result"
        }
      ],
      "source": [
        "t = 'naive string matcher alg'\n",
        "p = 'al'\n",
        "\n",
        "NSM(t, p)"
      ]
    },
    {
      "cell_type": "code",
      "execution_count": 4,
      "metadata": {
        "colab": {
          "base_uri": "https://localhost:8080/"
        },
        "id": "O-3OHycXuPk2",
        "outputId": "b2217313-7a10-4cc9-8ecf-64cfbb075848"
      },
      "outputs": [
        {
          "data": {
            "text/plain": [
              "[]"
            ]
          },
          "execution_count": 4,
          "metadata": {},
          "output_type": "execute_result"
        }
      ],
      "source": [
        "t = 'naive string matcher alg'\n",
        "p = 'dlw'\n",
        "\n",
        "NSM(t, p)"
      ]
    },
    {
      "cell_type": "code",
      "execution_count": 6,
      "metadata": {
        "colab": {
          "base_uri": "https://localhost:8080/"
        },
        "id": "7I06RH2euWqF",
        "outputId": "e4b0bb53-35cf-4ba1-d0b1-5b14e2692f5e"
      },
      "outputs": [
        {
          "data": {
            "text/plain": [
              "[0, 13, 20]"
            ]
          },
          "execution_count": 6,
          "metadata": {},
          "output_type": "execute_result"
        }
      ],
      "source": [
        "t = 'naive string matcher alg'\n",
        "p = 'a'\n",
        "\n",
        "NSM(t, p)"
      ]
    },
    {
      "cell_type": "markdown",
      "metadata": {
        "id": "YCwQIasb5rex"
      },
      "source": [
        "# Rabin-Karp algorithm"
      ]
    },
    {
      "cell_type": "markdown",
      "metadata": {
        "id": "qxzVIz81uhqp"
      },
      "source": [
        "3 versions of python implementation if RK algorithm are considered here:\n",
        "\n",
        "1. Digit string case\n",
        "2. Strings with any symbols\n",
        "3. Algorithm with a use of a ready hash function"
      ]
    },
    {
      "cell_type": "code",
      "execution_count": 10,
      "metadata": {
        "id": "depiyUCr5yxE"
      },
      "outputs": [],
      "source": [
        "# Digit case\n",
        "def RabKarp(T, P, d=10):\n",
        "    '''\n",
        "    Finds a fragment P in a text T by use of Rabin-Karp algorithm.\n",
        "    Only digital text is considered here.\n",
        "\n",
        "    Params:\n",
        "    T - str, a text in which the search will be implemented\n",
        "    P - str, a substring to be found in T\n",
        "    d - int, the length of the dictionary of symbols used;\n",
        "\n",
        "    Output:\n",
        "    s - array of integers, the shifts (the indices where P is found in T)\n",
        "\n",
        "    '''\n",
        "    shifts = []\n",
        "    n, m = len(T), len(P)\n",
        "    # Selecting the q\n",
        "    for q in range(2, n**3):\n",
        "        h = d**(m-1) % q\n",
        "        if h == int(P[0]):\n",
        "            break\n",
        "\n",
        "    p, t = 0, 0\n",
        "    \n",
        "    # Finding the coded form of P and T[0:m+1]\n",
        "    for i in range(m):\n",
        "        p = (d*p + int(P[i])) % q\n",
        "        t = (d*t + int(T[i])) % q\n",
        "\n",
        "    # Comparing with different slices of T\n",
        "    for s in range(n-m+1):\n",
        "        if p == t:\n",
        "            if int(P) == int(T[s : s+m]):\n",
        "                shifts.append(s)\n",
        "        if s < n - m:\n",
        "            t = (d*(t - int(T[s])*h) + int(T[s+m]))%q\n",
        "    \n",
        "    return shifts"
      ]
    },
    {
      "cell_type": "code",
      "execution_count": 11,
      "metadata": {
        "colab": {
          "base_uri": "https://localhost:8080/"
        },
        "id": "Bik5rqs1AZBa",
        "outputId": "2a04e41b-53cb-4988-a8a2-d24b81d8a859"
      },
      "outputs": [
        {
          "data": {
            "text/plain": [
              "[1]"
            ]
          },
          "execution_count": 11,
          "metadata": {},
          "output_type": "execute_result"
        }
      ],
      "source": [
        "T = '49503829587592023829'\n",
        "P = '950'\n",
        "d = 10\n",
        "RabKarp(T, P, 10)"
      ]
    },
    {
      "cell_type": "code",
      "execution_count": 12,
      "metadata": {
        "colab": {
          "base_uri": "https://localhost:8080/"
        },
        "id": "7Bp4UHOfwCM3",
        "outputId": "f623fcb3-acd3-437a-f894-bebb37c22dcb"
      },
      "outputs": [
        {
          "data": {
            "text/plain": [
              "[1, 7]"
            ]
          },
          "execution_count": 12,
          "metadata": {},
          "output_type": "execute_result"
        }
      ],
      "source": [
        "T = '49503829587592023829'\n",
        "P = '95'\n",
        "d = 10\n",
        "RabKarp(T, P, 10)"
      ]
    },
    {
      "cell_type": "code",
      "execution_count": 13,
      "metadata": {
        "colab": {
          "base_uri": "https://localhost:8080/"
        },
        "id": "b7FTeddd9l7I",
        "outputId": "02d9e9b3-bf99-41e9-d56d-e22390fd47cc"
      },
      "outputs": [
        {
          "data": {
            "text/plain": [
              "[1, 7, 12, 19]"
            ]
          },
          "execution_count": 13,
          "metadata": {},
          "output_type": "execute_result"
        }
      ],
      "source": [
        "T = '49503829587592023829'\n",
        "P = '9'\n",
        "d = 10\n",
        "RabKarp(T, P, 10)"
      ]
    },
    {
      "cell_type": "code",
      "execution_count": 15,
      "metadata": {
        "id": "eP8maLcnJtPe"
      },
      "outputs": [],
      "source": [
        "# Adapting to the case with symbols\n",
        "def RabKarp_str(T, P):\n",
        "    '''\n",
        "    Finds a fragment P in a text T by use of Rabin-Karp algorithm.\n",
        "\n",
        "    Params:\n",
        "    T - str, a text in which the search will be implemented\n",
        "    P - str, a substring to be found in T\n",
        "\n",
        "    Output:\n",
        "    s - array of integers, the shifts (the indices where P is found in T)\n",
        "    '''\n",
        "    shifts = []\n",
        "    n, m = len(T), len(P)\n",
        "\n",
        "    # Creating a dictionary from used symbols with a length d\n",
        "    alphabet = set(T)\n",
        "    d = len(alphabet)\n",
        "    h_dict = {l:i for i, l in enumerate(alphabet)}\n",
        "\n",
        "    # Selecting the q\n",
        "    for q in range(2, n**3):\n",
        "        h = d**(m-1) % q\n",
        "        if h == h_dict[P[0]]:\n",
        "            break\n",
        "            \n",
        "    p, t = 0, 0\n",
        "    \n",
        "    for i in range(m):\n",
        "        p = (d*p + h_dict[P[i]]) % q\n",
        "        t = (d*t + h_dict[T[i]]) % q\n",
        "    for s in range(n-m+1):\n",
        "        if p == t:\n",
        "            if P == T[s : s+m]:\n",
        "                shifts.append(s)\n",
        "        if s < n - m:\n",
        "            t = (d*(t - h_dict[T[s]]*h) + h_dict[T[s+m]])%q\n",
        "    \n",
        "    return shifts"
      ]
    },
    {
      "cell_type": "code",
      "execution_count": 17,
      "metadata": {
        "colab": {
          "base_uri": "https://localhost:8080/"
        },
        "id": "koaL71RJIOEq",
        "outputId": "10cdc720-a34a-4ae4-d6fe-61b8d7985882"
      },
      "outputs": [
        {
          "data": {
            "text/plain": [
              "[5]"
            ]
          },
          "execution_count": 17,
          "metadata": {},
          "output_type": "execute_result"
        }
      ],
      "source": [
        "T='dkdl dld lleed'\n",
        "P = 'dld'\n",
        "\n",
        "RabKarp_str(T, P)"
      ]
    },
    {
      "cell_type": "code",
      "execution_count": 18,
      "metadata": {
        "colab": {
          "base_uri": "https://localhost:8080/"
        },
        "id": "VRgsi6hVM-ch",
        "outputId": "fa60afa6-e588-4fb8-b042-a678c69012f1"
      },
      "outputs": [
        {
          "data": {
            "text/plain": [
              "[0, 20]"
            ]
          },
          "execution_count": 18,
          "metadata": {},
          "output_type": "execute_result"
        }
      ],
      "source": [
        "T = 'djkss;; w[[[w jjedw dj'\n",
        "P = 'dj'\n",
        "\n",
        "RabKarp_str(T, P)"
      ]
    },
    {
      "cell_type": "code",
      "execution_count": 21,
      "metadata": {
        "id": "o4k53heSBsIS"
      },
      "outputs": [],
      "source": [
        "# String case using hash function\n",
        "def RabinKarp_hash(T, P):\n",
        "    '''\n",
        "    Finds a fragment P in a text T by use of Rabin-Karp algorithm.\n",
        "\n",
        "    Params:\n",
        "    T - str, a text in which the search will be implemented\n",
        "    P - str, a substring to be found in T\n",
        "\n",
        "    Output:\n",
        "    s - array of integers, the shifts (the indices where P is found in T)\n",
        "    '''\n",
        "    n, m = len(T), len(P)\n",
        "    p = hash(P);\n",
        "    shifts = []\n",
        "\n",
        "    for s in range(n-m+1):\n",
        "        t = hash(T[s:s+m])\n",
        "        if t == p:\n",
        "            if T[s:s+m] == P:\n",
        "                shifts.append(s)\n",
        "    return shifts"
      ]
    },
    {
      "cell_type": "code",
      "execution_count": 22,
      "metadata": {
        "colab": {
          "base_uri": "https://localhost:8080/"
        },
        "id": "XEQmg4ZOxyl9",
        "outputId": "cbb0c214-9550-4f78-aee4-f7bc94ba763b"
      },
      "outputs": [
        {
          "data": {
            "text/plain": [
              "[26]"
            ]
          },
          "execution_count": 22,
          "metadata": {},
          "output_type": "execute_result"
        }
      ],
      "source": [
        "T = 'Empty spaces, what are we living for... Abandoned places...'\n",
        "P = 'living'\n",
        "\n",
        "RabinKarp_hash(T, P)"
      ]
    },
    {
      "cell_type": "code",
      "execution_count": 23,
      "metadata": {
        "colab": {
          "base_uri": "https://localhost:8080/"
        },
        "id": "Y3UCoRaSyRJP",
        "outputId": "b2ac7210-b9fc-4e89-c45c-d61a3d7755f0"
      },
      "outputs": [
        {
          "data": {
            "text/plain": [
              "[]"
            ]
          },
          "execution_count": 23,
          "metadata": {},
          "output_type": "execute_result"
        }
      ],
      "source": [
        "T = 'Empty spaces, what are we living for... Abandoned places...'\n",
        "P = 'mine'\n",
        "\n",
        "RabinKarp_hash(T, P)"
      ]
    },
    {
      "cell_type": "code",
      "execution_count": 24,
      "metadata": {
        "colab": {
          "base_uri": "https://localhost:8080/"
        },
        "id": "4bQcn9pFyT7f",
        "outputId": "112ab9f8-6bed-4e4c-e89f-fc79577179a6"
      },
      "outputs": [
        {
          "data": {
            "text/plain": [
              "[10, 21, 24, 47, 54]"
            ]
          },
          "execution_count": 24,
          "metadata": {},
          "output_type": "execute_result"
        }
      ],
      "source": [
        "T = 'Empty spaces, what are we living for... Abandoned places...'\n",
        "P = 'e'\n",
        "\n",
        "RabinKarp_hash(T, P)"
      ]
    }
  ],
  "metadata": {
    "colab": {
      "collapsed_sections": [],
      "name": "lab8_Koroleva.ipynb",
      "provenance": []
    },
    "kernelspec": {
      "display_name": "Python 3",
      "name": "python3"
    },
    "language_info": {
      "name": "python"
    }
  },
  "nbformat": 4,
  "nbformat_minor": 0
}
