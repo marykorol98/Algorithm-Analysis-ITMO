{
  "nbformat": 4,
  "nbformat_minor": 0,
  "metadata": {
    "colab": {
      "name": "Lab2_Koroleva.ipynb",
      "provenance": [],
      "collapsed_sections": []
    },
    "kernelspec": {
      "name": "python3",
      "display_name": "Python 3"
    },
    "language_info": {
      "name": "python"
    }
  },
  "cells": [
    {
      "cell_type": "code",
      "source": [
        "import numpy as np\n",
        "import itertools\n",
        "import matplotlib.pyplot as plt\n",
        "import random\n",
        "from scipy import optimize"
      ],
      "metadata": {
        "id": "StMOxjQEDU_W"
      },
      "execution_count": 7,
      "outputs": []
    },
    {
      "cell_type": "markdown",
      "source": [
        "Part I"
      ],
      "metadata": {
        "id": "kvUiAy6rC9e5"
      }
    },
    {
      "cell_type": "code",
      "execution_count": 2,
      "metadata": {
        "id": "VYYLCAPUCBLw"
      },
      "outputs": [],
      "source": [
        "# Functions\n",
        "\n",
        "func1 = lambda x: x**3\n",
        "func2 = lambda x: np.abs(x - 0.2)\n",
        "func3 = lambda x: x * np.sin(1/x)\n",
        "\n",
        "funcs = [func1, func2, func3]"
      ]
    },
    {
      "cell_type": "code",
      "source": [
        "eps = 0.001"
      ],
      "metadata": {
        "id": "L74A3p5VD0Vg"
      },
      "execution_count": 3,
      "outputs": []
    },
    {
      "cell_type": "code",
      "source": [
        "# One-dimensional direct methods\n",
        "\n",
        "def exhaustive_search(f, a, b, eps=eps):\n",
        "    n = (b - a) / eps\n",
        "    x_k = np.arange(a, b, (b-a)/n)\n",
        "    x_m = x_k[np.argmin(f(x_k))]\n",
        "    return x_m, len(f(x_k)), len(f(x_k))\n",
        "\n",
        "delta = np.random.uniform(0, eps)\n",
        "def dichotomy(f, a, b, delta = delta, eps=eps):\n",
        "    \n",
        "    iter = 0\n",
        "    while np.abs(a - b) >= eps:\n",
        "      x1 = (a + b - delta)/2\n",
        "      x2 = (a + b + delta)/2\n",
        "      if f(x1) <= f(x2):\n",
        "        b = x2\n",
        "      else:\n",
        "        a = x1\n",
        "      iter += 1\n",
        "    return (a, b), iter*2, iter\n",
        "\n",
        "def golden_section(f, a, b, eps=eps):\n",
        "    x1 = a + (3 - 5**0.5)*(b - a)/2\n",
        "    x2 = b + (5**0.5 - 3)*(b - a)/2\n",
        "    i = 0\n",
        "    f1 = f(x1)\n",
        "    f2 = f(x2)\n",
        "    while np.abs(a - b) >= eps:\n",
        "        if f(x1) <= f(x2):\n",
        "            b = x2\n",
        "            x2 = x1\n",
        "            x1 = a + (3 - np.sqrt(5))/2*(b - a)\n",
        "            f2 = f1\n",
        "            f1 = f(x1)\n",
        "        else:\n",
        "            a = x1\n",
        "            x1 = x2\n",
        "            x2 = b + (np.sqrt(5) - 3)/2*(b - a)\n",
        "            f1 = f2\n",
        "            f2 = f(x2)\n",
        "        i += 1\n",
        "    return (a, b), i + 2, i"
      ],
      "metadata": {
        "id": "WWL4D8GFErcQ"
      },
      "execution_count": 5,
      "outputs": []
    },
    {
      "cell_type": "code",
      "source": [
        "# 1\n",
        "print('Exhaustive search results:')\n",
        "print(' Function 1')\n",
        "print('   x_min = ', exhaustive_search(func1, 0, 1)[0])\n",
        "print('   Number of f-calculations = ', exhaustive_search(func1, 0, 1)[1])\n",
        "print('   Number of iterations = ', exhaustive_search(func1, 0, 1)[2])\n",
        "print(' Function 2')\n",
        "print('   x_min = ', exhaustive_search(func2, 0, 1)[0])\n",
        "print('   Number of f-calculations = ', exhaustive_search(func2, 0, 1)[1])\n",
        "print('   Number of iterations = ', exhaustive_search(func2, 0, 1)[2])\n",
        "print(' Function 3')\n",
        "print('   x_min = ', exhaustive_search(func3, 0.01, 1)[0])\n",
        "print('   Number of f-calculations = ', exhaustive_search(func3, 0.01, 1)[1])\n",
        "print('   Number of iterations = ', exhaustive_search(func3, 0.01, 1)[2])"
      ],
      "metadata": {
        "colab": {
          "base_uri": "https://localhost:8080/"
        },
        "id": "ikc0r6omHPn4",
        "outputId": "072bd244-e903-4c4e-c87f-1913f46afff6"
      },
      "execution_count": 15,
      "outputs": [
        {
          "output_type": "stream",
          "name": "stdout",
          "text": [
            "Exhaustive search results:\n",
            " Function 1\n",
            "   x_min =  0.0\n",
            "   Number of f-calculations =  1000\n",
            "   Number of iterations =  1000\n",
            " Function 2\n",
            "   x_min =  0.2\n",
            "   Number of f-calculations =  1000\n",
            "   Number of iterations =  1000\n",
            " Function 3\n",
            "   x_min =  0.22299999999999984\n",
            "   Number of f-calculations =  990\n",
            "   Number of iterations =  990\n"
          ]
        }
      ]
    },
    {
      "cell_type": "code",
      "source": [
        "# 2\n",
        "\n",
        "print('Dichotomy method results:')\n",
        "print(' Function 1')\n",
        "print('   x_min section is ', dichotomy(func1, 0, 1)[0])\n",
        "print('   Number of f-calculations = ', dichotomy(func1, 0, 1)[1])\n",
        "print('   Number of iterations = ', dichotomy(func1, 0, 1)[2])\n",
        "print(' Function 2')\n",
        "print('   x_min section is  ', dichotomy(func2, 0, 1)[0])\n",
        "print('   Number of f-calculations = ', dichotomy(func2, 0, 1)[1])\n",
        "print('   Number of iterations = ', dichotomy(func2, 0, 1)[2])\n",
        "print(' Function 3')\n",
        "print('   x_min section is  ', dichotomy(func3, 0.01, 1)[0])\n",
        "print('   Number of f-calculations = ', dichotomy(func3, 0.01, 1)[1])\n",
        "print('   Number of iterations = ', dichotomy(func3, 0.01, 1)[2])"
      ],
      "metadata": {
        "colab": {
          "base_uri": "https://localhost:8080/"
        },
        "id": "5PN1K9OKbUa2",
        "outputId": "8bda0583-7ff6-4ace-c9df-0b0d081a00f9"
      },
      "execution_count": 16,
      "outputs": [
        {
          "output_type": "stream",
          "name": "stdout",
          "text": [
            "Dichotomy method results:\n",
            " Function 1\n",
            "   x_min section is  (0, 0.0009349087389926897)\n",
            "   Number of f-calculations =  24\n",
            "   Number of iterations =  12\n",
            " Function 2\n",
            "   x_min section is   (0.19956904631294362, 0.2005039550519363)\n",
            "   Number of f-calculations =  24\n",
            "   Number of iterations =  12\n",
            " Function 3\n",
            "   x_min section is   (0.2220638079809162, 0.2229962753136589)\n",
            "   Number of f-calculations =  24\n",
            "   Number of iterations =  12\n"
          ]
        }
      ]
    },
    {
      "cell_type": "code",
      "source": [
        "# 3\n",
        "print('Golden section results:')\n",
        "print(' Function 1')\n",
        "print('   x_min section is ', golden_section(func1, 0, 1)[0])\n",
        "print('   Number of f-calculations = ', golden_section(func1, 0, 1)[1])\n",
        "print('   Number of iterations = ', golden_section(func1, 0, 1)[2])\n",
        "print(' Function 2')\n",
        "print('   x_min section is  ', golden_section(func2, 0, 1)[0])\n",
        "print('   Number of f-calculations = ', golden_section(func2, 0, 1)[1])\n",
        "print('   Number of iterations = ', golden_section(func2, 0, 1)[2])\n",
        "print(' Function 3')\n",
        "print('   x_min section is  ', golden_section(func3, 0.01, 1)[0])\n",
        "print('   Number of f-calculations = ', golden_section(func3, 0.01, 1)[1])\n",
        "print('   Number of iterations = ', golden_section(func3, 0.01, 1)[2])"
      ],
      "metadata": {
        "colab": {
          "base_uri": "https://localhost:8080/"
        },
        "id": "hExXBM7Kd9zC",
        "outputId": "9dc534d0-e802-41c3-9a48-e747d4aa5c61"
      },
      "execution_count": 17,
      "outputs": [
        {
          "output_type": "stream",
          "name": "stdout",
          "text": [
            "Golden section results:\n",
            " Function 1\n",
            "   x_min section is  (0, 0.000733137435857404)\n",
            "   Number of f-calculations =  17\n",
            "   Number of iterations =  15\n",
            " Function 2\n",
            "   x_min section is   (0.199706745025657, 0.2004398824615144)\n",
            "   Number of f-calculations =  17\n",
            "   Number of iterations =  15\n",
            " Function 3\n",
            "   x_min section is   (0.22235669058885382, 0.22308249665035265)\n",
            "   Number of f-calculations =  17\n",
            "   Number of iterations =  15\n"
          ]
        }
      ]
    },
    {
      "cell_type": "markdown",
      "source": [
        "Part II"
      ],
      "metadata": {
        "id": "nbx_cWJmhbi0"
      }
    },
    {
      "cell_type": "code",
      "source": [
        "alpha = np.random.uniform(0, 1)\n",
        "beta = np.random.uniform(0, 1)\n",
        "\n",
        "# Generating the noisy data\n",
        "\n",
        "X = np.arange(0, 1.01, 0.01) \n",
        "\n",
        "def y(x):\n",
        "  return alpha*x + beta + np.random.normal(0, 1)\n",
        "\n",
        "Y = np.array([y(x) for x in X])"
      ],
      "metadata": {
        "id": "iri8Ngh8hbKc"
      },
      "execution_count": 22,
      "outputs": []
    },
    {
      "cell_type": "code",
      "source": [
        "# Functions for approximation\n",
        "\n",
        "def F_linear(x, a, b):\n",
        "    return a*x + b\n",
        "\n",
        "def F_rational(x, a, b):\n",
        "    return a/(1 + b*x)\n",
        "\n",
        "def D(func, X, Y, a, b):\n",
        "    return sum([(func(x_i, a, b) - y_i)**2 for x_i, y_i in zip(X, Y)])\n",
        "\n",
        "eps = 0.001"
      ],
      "metadata": {
        "id": "T8pkD-fxQsmh"
      },
      "execution_count": 4,
      "outputs": []
    },
    {
      "cell_type": "code",
      "source": [
        "# Exhaustive search\n",
        "\n",
        "def exhaustive_multidim(f, X, Y, a, b):\n",
        "    f_min = D(f, X, Y, a, b)\n",
        "    a_opt = 0\n",
        "    b_opt = 0\n",
        "    i = 0\n",
        "    options = np.arange(-1, 1 + eps, eps)\n",
        "    for a, b in list(itertools.product(options, repeat=2)):\n",
        "        new_f = D(f, X, Y, a, b)\n",
        "        if new_f < f_min:\n",
        "            f_min = new_f\n",
        "            a_opt = a\n",
        "            b_opt = b\n",
        "        i += 1\n",
        "    return a_opt, b_opt, i+1, i"
      ],
      "metadata": {
        "id": "Gefu8-aUUg4_"
      },
      "execution_count": 8,
      "outputs": []
    },
    {
      "cell_type": "code",
      "source": [
        "# Linear function approximation\n",
        "%%time\n",
        "F_linear_opt_1 = exhaustive_multidim(F_linear, X, Y, alpha, beta)\n",
        "F_linear_opt_1"
      ],
      "metadata": {
        "colab": {
          "base_uri": "https://localhost:8080/"
        },
        "id": "Ox1nS-ltkj6Z",
        "outputId": "646cca80-8bcd-4069-9d5c-daf4a393422c"
      },
      "execution_count": 28,
      "outputs": [
        {
          "output_type": "stream",
          "name": "stdout",
          "text": [
            "CPU times: user 7min 24s, sys: 1.02 s, total: 7min 25s\n",
            "Wall time: 7min 28s\n"
          ]
        }
      ]
    },
    {
      "cell_type": "code",
      "source": [
        "print('Optimal linear function 1: {}x + {}'.format(round(F_linear_opt_1[0], 2), round(F_linear_opt_1[1], 2)))\n",
        "print('Number of iterations: {}'.format(F_linear_opt_1[2]))\n",
        "print('Number of function evaluations: {}'.format(F_linear_opt_1[3]))"
      ],
      "metadata": {
        "colab": {
          "base_uri": "https://localhost:8080/"
        },
        "id": "yn-rQRSOMaCr",
        "outputId": "c8944031-f3e5-4e68-d7bc-02f03096dd40"
      },
      "execution_count": 33,
      "outputs": [
        {
          "output_type": "stream",
          "name": "stdout",
          "text": [
            "Optimal linear function 1: 1.0x + 0.82\n",
            "Number of iterations: 4004002\n",
            "Number of function evaluations: 4004001\n"
          ]
        }
      ]
    },
    {
      "cell_type": "code",
      "source": [
        "# Rational function approximation\n",
        "%%time\n",
        "F_rational_opt_1 = exhaustive_multidim(F_rational, X, Y, alpha, beta)\n",
        "F_rational_opt_1"
      ],
      "metadata": {
        "colab": {
          "base_uri": "https://localhost:8080/"
        },
        "id": "ghPGs_MYJahP",
        "outputId": "2c7e379e-a32d-4a98-d97d-88c9d38df9d5"
      },
      "execution_count": 30,
      "outputs": [
        {
          "output_type": "stream",
          "name": "stderr",
          "text": [
            "/usr/local/lib/python3.7/dist-packages/ipykernel_launcher.py:7: RuntimeWarning: divide by zero encountered in double_scalars\n",
            "  import sys\n"
          ]
        },
        {
          "output_type": "stream",
          "name": "stdout",
          "text": [
            "CPU times: user 9min 19s, sys: 1.12 s, total: 9min 21s\n",
            "Wall time: 9min 21s\n"
          ]
        }
      ]
    },
    {
      "cell_type": "code",
      "source": [
        "print('Optimal rational function 1: {}/(1{}x)'.format(round(F_rational_opt_1[0], 2), round(F_rational_opt_1[1], 2)))\n",
        "print('Number of iterations: {}'.format(F_rational_opt_1[2]))\n",
        "print('Number of function evaluations: {}'.format(F_rational_opt_1[3]))"
      ],
      "metadata": {
        "colab": {
          "base_uri": "https://localhost:8080/"
        },
        "id": "5XAXsaKaONSa",
        "outputId": "6161d113-e300-41f9-94fb-94baa08537b4"
      },
      "execution_count": 31,
      "outputs": [
        {
          "output_type": "stream",
          "name": "stdout",
          "text": [
            "Optimal rational function 1: 0.92/(1-0.54x)\n",
            "Number of iterations: 4004002\n",
            "Number of function evaluations: 4004001\n"
          ]
        }
      ]
    },
    {
      "cell_type": "code",
      "source": [
        "# Gauss\n",
        "eps = 0.001\n",
        "\n",
        "def dichotomy_for_D(f, X, Y, a, b, a_opt, b_opt, par = 'a'):\n",
        "    i = 0\n",
        "    delta = np.random.uniform(0, eps)\n",
        "    \n",
        "    while np.abs(a - b) > eps:\n",
        "        x1 = (a + b - delta) / 2\n",
        "        x2 = (a + b + delta) / 2\n",
        "        f_1 = D(f, X, Y, x1, b_opt) if par == 'a' else D(f, X, Y, a_opt, x1)\n",
        "        f_2 = D(f, X, Y, x2, b_opt) if par == 'a' else D(f, X, Y, a_opt, x2)\n",
        "        \n",
        "        if f_1 <= f_2:\n",
        "            b = x2\n",
        "            fmin = f_1\n",
        "        else:\n",
        "            a = x1\n",
        "            fmin = f_2\n",
        "        i += 1\n",
        "    return x1, i*2, i\n",
        "\n",
        "def gauss(f, X, Y, z1 = 0, z2 = 0):\n",
        "    f_min_prev = D(f, X, Y, z1, z2)\n",
        "    z1_prev = z1\n",
        "    z1 =  dichotomy_for_D(f, X, Y, -1, 1 + eps, z1, z2)[0]\n",
        "    f_min = D(f, X, Y, z1, z2)\n",
        "    i = 1 + dichotomy_for_D(f, X, Y, -1, 1 + eps, z1, z2)[2]\n",
        "    j = 2 + dichotomy_for_D(f, X, Y, -1, 1 + eps, z1, z2)[1]\n",
        "    l = 1\n",
        "    while (np.abs(f_min - f_min_prev) >= eps) and (np.abs(z1 - z1_prev) >= eps):\n",
        "      if l % 2 == 0:\n",
        "          z1_prev = z1\n",
        "          z1 =  dichotomy_for_D(f, X, Y, -1, 1 + eps, z1, z2)[0]\n",
        "          f_min_prev = f_min\n",
        "          f_min = D(f, X, Y, z1, z2)\n",
        "          i += 1 + dichotomy_for_D(f, X, Y, -1, 1 + eps, z1, z2)[2]\n",
        "          j += 1 + dichotomy_for_D(f, X, Y, -1, 1 + eps, z1, z2)[1]\n",
        "      else:\n",
        "          z2_prev = z2\n",
        "          z2 =  dichotomy_for_D(f, X, Y, -1, 1 + eps, z1, z2, par = 'b')[0]\n",
        "          f_min_prev = f_min\n",
        "          f_min = D(f, X, Y, z1, z2)\n",
        "          i += 1 + dichotomy_for_D(f, X, Y, -1, 1 + eps, z1, z2, par = 'b')[2]\n",
        "          j += 1 + dichotomy_for_D(f, X, Y, -1, 1 + eps, z1, z2, par = 'b')[1]\n",
        "          if np.abs(z2 - z2_prev) < eps:\n",
        "              break\n",
        "      l += 1\n",
        "    return z1, z2, j, i\n"
      ],
      "metadata": {
        "id": "RaojMt_39mBd"
      },
      "execution_count": 97,
      "outputs": []
    },
    {
      "cell_type": "code",
      "source": [
        "%%time\n",
        "F_linear_opt_2 = gauss(F_linear, X, Y, alpha, beta)"
      ],
      "metadata": {
        "colab": {
          "base_uri": "https://localhost:8080/"
        },
        "id": "eMjnP6iBaGdt",
        "outputId": "80a00671-caf1-49ac-f7f8-e1612e5d051e"
      },
      "execution_count": 98,
      "outputs": [
        {
          "output_type": "stream",
          "name": "stdout",
          "text": [
            "CPU times: user 214 ms, sys: 0 ns, total: 214 ms\n",
            "Wall time: 218 ms\n"
          ]
        }
      ]
    },
    {
      "cell_type": "code",
      "source": [
        "print('Optimal linear function 2: {}x + {}'.format(round(F_linear_opt_2[0], 2), round(F_linear_opt_2[1], 2)))\n",
        "print('Number of iterations: {}'.format(F_linear_opt_2[3]))\n",
        "print('Number of function evaluations: {}'.format(F_linear_opt_2[2]))"
      ],
      "metadata": {
        "colab": {
          "base_uri": "https://localhost:8080/"
        },
        "id": "eAxbScvTaRy4",
        "outputId": "c3869627-4e78-4120-931a-9b7892125a7f"
      },
      "execution_count": 105,
      "outputs": [
        {
          "output_type": "stream",
          "name": "stdout",
          "text": [
            "Optimal linear function 2: 0.8x + 0.28\n",
            "Number of iterations: 323\n",
            "Number of function evaluations: 579\n"
          ]
        }
      ]
    },
    {
      "cell_type": "code",
      "source": [
        "%%time\n",
        "F_rational_opt_2 = gauss(F_rational, X, Y, alpha, beta)"
      ],
      "metadata": {
        "colab": {
          "base_uri": "https://localhost:8080/"
        },
        "id": "VH-PHHi5ub_U",
        "outputId": "af89a02c-281b-4f74-f241-102942f42f68"
      },
      "execution_count": 100,
      "outputs": [
        {
          "output_type": "stream",
          "name": "stdout",
          "text": [
            "CPU times: user 328 ms, sys: 0 ns, total: 328 ms\n",
            "Wall time: 334 ms\n"
          ]
        }
      ]
    },
    {
      "cell_type": "code",
      "source": [
        "print('Optimal rational function 2: {}/(1{}x)'.format(round(F_rational_opt_2[0], 2), round(F_rational_opt_2[1], 2)))\n",
        "print('Number of iterations: {}'.format(F_rational_opt_2[3]))\n",
        "print('Number of function evaluations: {}'.format(F_rational_opt_2[2]))"
      ],
      "metadata": {
        "colab": {
          "base_uri": "https://localhost:8080/"
        },
        "id": "Zeku1x3ludYF",
        "outputId": "66b67a99-5bbc-4e71-bab0-ad761fe9a2dd"
      },
      "execution_count": 104,
      "outputs": [
        {
          "output_type": "stream",
          "name": "stdout",
          "text": [
            "Optimal rational function 2: 0.4/(1-0.7x)\n",
            "Number of iterations: 414\n",
            "Number of function evaluations: 723\n"
          ]
        }
      ]
    },
    {
      "cell_type": "code",
      "source": [
        "# Nelder-Mead\n",
        "\n",
        "# k = np.array(list(range(0, 101)))\n",
        "# X = np.array(list(map(lambda x: x/100, k)))\n",
        "# Y = np.array([alpha*x + beta + np.random.normal(0, 1) \n",
        "#                for i, x in enumerate(X)])\n",
        "\n",
        "def F_linear_point(x, point):\n",
        "    return point[0]*x + point[1]\n",
        "\n",
        "def F_rational_point(x, point):\n",
        "    return point[0]/(1 + point[1]*x)\n",
        "\n",
        "def D_point(point, f, X, Y):\n",
        "    return sum([(f(x_i, point) - y_i)**2 for x_i, y_i in zip(X, Y)])\n",
        "\n",
        "\n",
        "def nelder_mead(f, X, Y):\n",
        "    result = optimize.minimize(D_point, np.random.rand(2), args=(f, X, Y), method ='nelder-mead')\n",
        "    return result.x\n",
        "    '''\n",
        "    i = 0\n",
        "    a = np.array([np.random.uniform(-1, eps), np.random.uniform(-1, eps), np.random.uniform(-1, eps)])\n",
        "    b = np.array([np.random.uniform(-1, eps), np.random.uniform(-1, eps), np.random.uniform(-1, eps)])\n",
        "    while True:\n",
        "        f =np.array([D(f, X, Y, a[0], b[0]), D(f, X, Y, a[1], b[1]), D(f, X, Y, a[2], b[2])])\n",
        "        f_l, f_g, f_h  = np.sort(f)[0], np.sort(f)[1], np.sort(f)[2]\n",
        "        h, g, l = np.where(np.isclose(f, f_h)), np.where(np.isclose(f, f_g)), np.where(np.isclose(f, f_l))\n",
        "        x_h = (a[h], b[h])\n",
        "        x_c = ((a[g]+ a[l])/2, (b[g] + b[l])/2)\n",
        "        x_r = (1 + alpha)*x_c - alpha*(a[h], b[h])\n",
        "        f_r = D(f, X, Y, x_r[0], x_r[1])\n",
        "        if f_r < f[2]:\n",
        "            x_e = (1 - gamma)*x_c + gamma*x_r\n",
        "            f_e = D(f, X, Y, x_e[0], x_e[1])\n",
        "            if f_e < f_r:\n",
        "                x_h = x_e\n",
        "            else:\n",
        "                x_h = x_r\n",
        "        elif f[l] < f_r and f_r < f[g]:\n",
        "            x_h = x_r\n",
        "        elif f[g] < f_r and f_r < f[h]:\n",
        "            x, y = x_r, f_r\n",
        "            x_r, f_r = x_h, f[h]\n",
        "            x_h, f[h] = x, y\n",
        "        \n",
        "        x_s = beta*x_h + (1 - beta)*x_c\n",
        "        f_s = D(f, X, Y, x_s[0], x_s[1])\n",
        "        if f_s < f[h]:\n",
        "            x_h = x_s\n",
        "    '''\n",
        "        \n",
        "\n",
        "\n"
      ],
      "metadata": {
        "id": "boRDqgb7o4Nu"
      },
      "execution_count": 25,
      "outputs": []
    },
    {
      "cell_type": "code",
      "source": [
        "%%time\n",
        "F_linear_opt_3 = nelder_mead(F_linear_point, X, Y)"
      ],
      "metadata": {
        "colab": {
          "base_uri": "https://localhost:8080/"
        },
        "id": "6pxK1Ip5taZr",
        "outputId": "a5e41c03-6ab6-4123-9d5e-5944b136b01d"
      },
      "execution_count": 26,
      "outputs": [
        {
          "output_type": "stream",
          "name": "stdout",
          "text": [
            "CPU times: user 27.1 ms, sys: 724 µs, total: 27.8 ms\n",
            "Wall time: 29.1 ms\n"
          ]
        }
      ]
    },
    {
      "cell_type": "code",
      "source": [
        "print('Optimal linear function 3: {}x + {}'.format(round(F_linear_opt_3[0], 2), round(F_linear_opt_3[1], 2)))"
      ],
      "metadata": {
        "colab": {
          "base_uri": "https://localhost:8080/"
        },
        "id": "651DB-3Rt2Sw",
        "outputId": "e438f6d4-1744-4d34-ff29-9ae20acca386"
      },
      "execution_count": 28,
      "outputs": [
        {
          "output_type": "stream",
          "name": "stdout",
          "text": [
            "Optimal linear function 3: 0.21x + 0.12\n"
          ]
        }
      ]
    },
    {
      "cell_type": "code",
      "source": [
        "%%time\n",
        "F_rational_opt_3 = nelder_mead(F_rational_point, X, Y)"
      ],
      "metadata": {
        "colab": {
          "base_uri": "https://localhost:8080/"
        },
        "outputId": "f6c815aa-7cf0-419a-d9d3-852a719b0f41",
        "id": "ZghGOQBLzpOA"
      },
      "execution_count": 29,
      "outputs": [
        {
          "output_type": "stream",
          "name": "stdout",
          "text": [
            "CPU times: user 38.7 ms, sys: 0 ns, total: 38.7 ms\n",
            "Wall time: 73.9 ms\n"
          ]
        }
      ]
    },
    {
      "cell_type": "code",
      "source": [
        "print('Optimal rational function 3: {}/(1{}x)'.format(round(F_rational_opt_3[0], 2), round(F_rational_opt_3[1], 2)))\n"
      ],
      "metadata": {
        "colab": {
          "base_uri": "https://localhost:8080/"
        },
        "outputId": "8fc68d14-2429-4aa7-8643-63ee9a121ef1",
        "id": "1xX7siIezpOA"
      },
      "execution_count": 30,
      "outputs": [
        {
          "output_type": "stream",
          "name": "stdout",
          "text": [
            "Optimal rational function 3: 0.09/(1-0.89x)\n"
          ]
        }
      ]
    },
    {
      "cell_type": "markdown",
      "source": [
        "Plots"
      ],
      "metadata": {
        "id": "B6pscaLI_zSu"
      }
    },
    {
      "cell_type": "code",
      "source": [
        "# Exhaustive search\n",
        "\n",
        "fig, axes = plt.subplots(1, 2, figsize=(20, 10))\n",
        "\n",
        "axes.flat[0].plot(X, F_linear(X, F_linear_opt_1[0], F_linear_opt_1[1]), color = 'red')\n",
        "axes.flat[0].scatter(X, Y)\n",
        "axes.flat[0].set_title('Exhaustive search linear approximation')\n",
        "\n",
        "\n",
        "axes.flat[1].plot(X, F_rational(X, F_rational_opt_1[0], F_rational_opt_1[1]), color = 'red')\n",
        "axes.flat[1].scatter(X, Y)\n",
        "axes.flat[1].set_title('Exhaustive search rational approximation')"
      ],
      "metadata": {
        "colab": {
          "base_uri": "https://localhost:8080/",
          "height": 624
        },
        "id": "ioV6dlyB8nsD",
        "outputId": "ccb9f2cb-974d-4710-fd6b-71fff242cfca"
      },
      "execution_count": 36,
      "outputs": [
        {
          "output_type": "execute_result",
          "data": {
            "text/plain": [
              "Text(0.5, 1.0, 'Exhaustive search rational approximation')"
            ]
          },
          "metadata": {},
          "execution_count": 36
        },
        {
          "output_type": "display_data",
          "data": {
            "image/png": "[encoded data removed]",
            "text/plain": [
              "<Figure size 1440x720 with 2 Axes>"
            ]
          },
          "metadata": {
            "needs_background": "light"
          }
        }
      ]
    },
    {
      "cell_type": "code",
      "source": [
        "# Gauss method\n",
        "\n",
        "fig, axes = plt.subplots(1, 2, figsize=(20, 10))\n",
        "\n",
        "axes.flat[0].plot(X, F_linear(X, F_linear_opt_2[0], F_linear_opt_2[1]), color = 'red')\n",
        "axes.flat[0].scatter(X, Y)\n",
        "axes.flat[0].set_title('Gauss method linear approximation')\n",
        "\n",
        "\n",
        "axes.flat[1].plot(X, F_rational(X, F_rational_opt_2[0], F_rational_opt_2[1]), color = 'red')\n",
        "axes.flat[1].scatter(X, Y)\n",
        "axes.flat[1].set_title('Gauss method rational approximation')"
      ],
      "metadata": {
        "colab": {
          "base_uri": "https://localhost:8080/",
          "height": 624
        },
        "id": "CR7LRzx08wPx",
        "outputId": "3bc89197-a9b1-4259-cdfc-cbf3d56abe6a"
      },
      "execution_count": 106,
      "outputs": [
        {
          "output_type": "execute_result",
          "data": {
            "text/plain": [
              "Text(0.5, 1.0, 'Gauss method rational approximation')"
            ]
          },
          "metadata": {},
          "execution_count": 106
        },
        {
          "output_type": "display_data",
          "data": {
            "image/png": "[encoded data removed]",
            "text/plain": [
              "<Figure size 1440x720 with 2 Axes>"
            ]
          },
          "metadata": {
            "needs_background": "light"
          }
        }
      ]
    },
    {
      "cell_type": "code",
      "source": [
        "# Nelder-Mead\n",
        "\n",
        "fig, axes = plt.subplots(1, 2, figsize=(20, 10))\n",
        "\n",
        "axes.flat[0].plot(X, F_linear(X, F_linear_opt_3[0], F_linear_opt_3[1]), color = 'red')\n",
        "axes.flat[0].scatter(X, Y)\n",
        "axes.flat[0].set_title('Nelder-Mead linear approximation')\n",
        "\n",
        "\n",
        "axes.flat[1].plot(X, F_rational(X, F_rational_opt_3[0], F_rational_opt_3[1]), color = 'red')\n",
        "axes.flat[1].scatter(X, Y)\n",
        "axes.flat[1].set_title('Nelder-Mead method rational approximation')"
      ],
      "metadata": {
        "colab": {
          "base_uri": "https://localhost:8080/",
          "height": 624
        },
        "id": "fXyLnxN2o26N",
        "outputId": "9f876a85-80fd-493b-be2c-8942a50da85c"
      },
      "execution_count": 31,
      "outputs": [
        {
          "output_type": "execute_result",
          "data": {
            "text/plain": [
              "Text(0.5, 1.0, 'Nelder-Mead method rational approximation')"
            ]
          },
          "metadata": {},
          "execution_count": 31
        },
        {
          "output_type": "display_data",
          "data": {
            "image/png": "[encoded data removed]",
            "text/plain": [
              "<Figure size 1440x720 with 2 Axes>"
            ]
          },
          "metadata": {
            "needs_background": "light"
          }
        }
      ]
    }
  ]
}