{
  "cells": [
    {
      "cell_type": "markdown",
      "metadata": {
        "id": "-f8VnAdtAG2x"
      },
      "source": [
        "# Part I"
      ]
    },
    {
      "cell_type": "markdown",
      "metadata": {
        "id": "ngbTQsbMfGgE"
      },
      "source": [
        "I.  Generate a random adjacency matrix for a simple undirected weighted graph of 100 vertices and 500 edges with assigned random positive integer weights (note that the matrix should be symmetric and contain only 0s and weights as elements). Use Dijkstra's and Bellman-Ford algorithms to find shortest paths between a random starting vertex and other vertices. Measure the time required to find the paths for each algorithm.  Repeat the experiment 10 times for the same starting vertex and calculate the average time required for the paths search of each algorithm. Analyse the results obtained.\n",
        "II. Generate a 10x10 cell grid with 30 obstacle cells. Choose two random non-obstacle cells and find a shortest path between them using A* algorithm. Repeat the experiment 5 times with different random pair of cells. Analyse the results obtained.\n",
        "III. Describe the data structures and design techniques used within the algorithms.\n"
      ]
    },
    {
      "cell_type": "code",
      "execution_count": 194,
      "metadata": {
        "id": "CDrL2tUjgjFl"
      },
      "outputs": [],
      "source": [
        "import numpy as np\n",
        "import math"
      ]
    },
    {
      "cell_type": "code",
      "execution_count": 2,
      "metadata": {
        "id": "Mjs0wFbheebj"
      },
      "outputs": [],
      "source": [
        "def random_adj_matrix_w(num_verts, num_edges):\n",
        "    '''\n",
        "    Generates a random adjacency matrix for a simple undirected weighted graph\n",
        "    \n",
        "    Parameters:\n",
        "    ----------\n",
        "    num_verts - int, number of vertices\n",
        "    num_edges - int, number of edges\n",
        "\n",
        "    Output:\n",
        "    result - 2D array\n",
        "    '''\n",
        "    num_sells_triangle = int((num_verts - 1) * num_verts / 2) # counting the number of sells that will be symmetric\n",
        "    edge_indices = np.random.choice(range(num_sells_triangle), num_edges, replace=False) # picking random connections (pairs)\n",
        "    triangle_list = np.zeros(num_sells_triangle) # initializing the list\n",
        "    triangle_list[edge_indices] = np.random.randint(1, 10, num_edges) # generating weights\n",
        "    result = np.zeros((num_verts, num_verts)) # initializing the result matrix\n",
        "    triangle_indices = np.triu_indices(num_verts, k=1) # all the indices of the upper triangle (the diagonal is not included)\n",
        "    result[triangle_indices] = triangle_list # pasting the random ones into the result matrix\n",
        "    result = result + np.rot90(np.fliplr(result)) # pasting symmetric ones\n",
        "\n",
        "    return result"
      ]
    },
    {
      "cell_type": "code",
      "execution_count": 3,
      "metadata": {
        "id": "iorgU7nPglbH"
      },
      "outputs": [],
      "source": [
        "# Generating a random adjecency matrix of a weighted grapgh\n",
        "\n",
        "m = random_adj_matrix_w(100, 500)"
      ]
    },
    {
      "cell_type": "code",
      "execution_count": 4,
      "metadata": {
        "id": "xrsa2gmom0J0"
      },
      "outputs": [],
      "source": [
        "def adj_matrix_to_list(matrix):\n",
        "  '''\n",
        "  Transfer adjecency matrix into adjecency list\n",
        "  \n",
        "  Paramers:\n",
        "  matrix - 2D array \n",
        "  \n",
        "  Output:\n",
        "  result - 1D array\n",
        "  '''\n",
        "  result = [set(j for j, cell in enumerate(row) if cell != 0) for row in matrix]\n",
        "  \n",
        "  return result"
      ]
    },
    {
      "cell_type": "code",
      "execution_count": 93,
      "metadata": {
        "id": "ocjayuhjg0NA"
      },
      "outputs": [],
      "source": [
        "def DA(graph_matrix, source):\n",
        "  '''\n",
        "  Finds the shortest paths between a source vertice to other vertices using Dijkstra's algorithm.\n",
        "\n",
        "  Params:\n",
        "  ------\n",
        "  graph_matrix: array, graph's adjecency matrix\n",
        "  source: int, index number of a source vertice\n",
        "\n",
        "  Output:\n",
        "  -----\n",
        "  dists: a dictionary where keys are node numbers and values are distances from the source node to a given node\n",
        "  paths: a dictionary of the shortest routes from the source vertice to other vertices\n",
        "  '''\n",
        "  # Creating an SPT set\n",
        "  adj_list = adj_matrix_to_list(graph_matrix)\n",
        "  spt = [(0, source)] # format (distance, vertice)\n",
        "  paths = {i: None for i in range(len(adj_list))}\n",
        "  dists = {i: float('infinity') for i in range(len(adj_list))} # initializing distances dictionary\n",
        "  dists[source] = 0\n",
        "\n",
        "  while spt or spt == [(0, 0)]:\n",
        "    new_dist, new_node = min(spt) # picking a new vertice\n",
        "    spt.remove(min(spt)) #removing it from spt\n",
        "\n",
        "    if new_dist > dists[new_node]:\n",
        "      continue\n",
        "    for neighbour in adj_list[new_node]:\n",
        "         weight = graph_matrix[new_node, neighbour]\n",
        "         dist = new_dist + weight\n",
        "         if dist < dists[neighbour]:  # Updating distance values\n",
        "            dists[neighbour] = dist\n",
        "            paths[neighbour] = new_node\n",
        "            spt.append((dist, neighbour))\n",
        "\n",
        "\n",
        "  # def get_path(start, finish, paths):\n",
        "  #   previous = paths[finish]\n",
        "  #   res = [previous]\n",
        "\n",
        "  #   while previous != None:\n",
        "  #       previous = paths[previous]\n",
        "  #       res.insert(0, previous)\n",
        "  #   return res\n",
        "\n",
        "  # routes = {i: get_path(0, i, DA(graph_m, 0)[1]) for i in range(len(graph_list))}\n",
        "\n",
        "  return dists, paths\n"
      ]
    },
    {
      "cell_type": "code",
      "execution_count": 6,
      "metadata": {
        "id": "YYnfhoYJS58N"
      },
      "outputs": [],
      "source": [
        "def edges(matrix):\n",
        "  '''\n",
        "  Getting the list of edges \n",
        "  \n",
        "  Params:\n",
        "  matrix: graph's adjecency matrix\n",
        "\n",
        "  Output:\n",
        "  result: array with edges with (start, finish)\n",
        "  '''\n",
        "  result = [[(i, j) for j in range(len(matrix)) if matrix[i][j] != 0] for i in range(matrix.shape[0])]\n",
        "  return result"
      ]
    },
    {
      "cell_type": "code",
      "execution_count": 7,
      "metadata": {
        "id": "3jWq3ZwQN6uG"
      },
      "outputs": [],
      "source": [
        "def BFA(graph, source):\n",
        "  '''\n",
        "  Finds the shortest paths between a source vertice to other vertices using Bellman-Ford algorithm.\n",
        "\n",
        "  Params:\n",
        "  ------\n",
        "  graph_matrix: array, graph's adjecency matrix\n",
        "  source: int, index number of a source vertice\n",
        "\n",
        "  Output:\n",
        "  -----\n",
        "  dists: a dictionary where keys are node numbers and values are distances from the source node to a given node\n",
        "  paths: a dictionary of the shortest routes from the source vertice to other vertices\n",
        "\n",
        "  '''\n",
        "  adj_list = adj_matrix_to_list(graph)\n",
        "  edge_list = edges(graph)\n",
        "  paths = {i: None for i in range(len(adj_list))}\n",
        "  dists = {i: float('infinity') for i in range(len(adj_list))}\n",
        "  dists[source] = 0\n",
        "\n",
        "  for i in range(len(adj_list) - 1):\n",
        "    i += 1\n",
        "    for sublist in edge_list:\n",
        "      for edge in sublist:\n",
        "        node, neighbour = edge\n",
        "        weight = graph[node, neighbour]\n",
        "        dist = dists[node] + weight\n",
        "        if dist < dists[neighbour]:\n",
        "          paths[neighbour] = node\n",
        "          dists[neighbour] = dist\n",
        "\n",
        "  return dists, paths"
      ]
    },
    {
      "cell_type": "code",
      "execution_count": 8,
      "metadata": {
        "id": "jdYk_RqtoR7J"
      },
      "outputs": [],
      "source": [
        "import time\n",
        "\n",
        "# Time Function \n",
        "def time_func(alg):\n",
        "  '''\n",
        "  Measures the time required for an algorithm\n",
        "\n",
        "  Params:\n",
        "  alg - a measured function \n",
        "\n",
        "  Output:\n",
        "  t - time, required for the algorithm\n",
        "  '''\n",
        "  t = time.perf_counter_ns()\n",
        "  alg\n",
        "  t = time.perf_counter_ns() - t\n",
        "  return t"
      ]
    },
    {
      "cell_type": "code",
      "execution_count": 9,
      "metadata": {
        "id": "pK82SvAXpybs"
      },
      "outputs": [],
      "source": [
        "# Average time\n",
        "def avg_time(alg, n):\n",
        "    '''\n",
        "    Measures the average time for an algorithm\n",
        "\n",
        "    Params:\n",
        "    -----\n",
        "    alg - the measured algorithm\n",
        "    n - number of experiment repetitions\n",
        "\n",
        "    Output:\n",
        "    res - average time, required for the algorithm\n",
        "    '''\n",
        "    time_array = np.zeros(n)\n",
        "    for i in range(n):\n",
        "      time_array[i] = time_func(alg)\n",
        "    \n",
        "    res = np.mean(time_array)\n",
        "    return res\n",
        "   "
      ]
    },
    {
      "cell_type": "code",
      "execution_count": 10,
      "metadata": {
        "colab": {
          "base_uri": "https://localhost:8080/"
        },
        "id": "7JU8SZOdRVAO",
        "outputId": "91cde7f7-cb16-4b44-c7e1-122009d11159"
      },
      "outputs": [
        {
          "name": "stdout",
          "output_type": "stream",
          "text": [
            "Average time required for the paths search of DA is : 381.2 nanoseconds\n",
            "Average time required for the paths search of BFA is : 266.0 nanoseconds\n"
          ]
        }
      ],
      "source": [
        "# Finding the shortest distances\n",
        "start = np.random.randint(0, len(m))\n",
        "\n",
        "print('Average time required for the paths search of DA is : {} nanoseconds'.format(avg_time(DA(m, start), 10)))\n",
        "print('Average time required for the paths search of BFA is : {} nanoseconds'.format(avg_time(BFA(m, start), 10)))"
      ]
    },
    {
      "cell_type": "markdown",
      "metadata": {
        "id": "ZySQrqcLAKFc"
      },
      "source": [
        "# Part II"
      ]
    },
    {
      "cell_type": "markdown",
      "metadata": {
        "id": "V6PZB8F6AP3J"
      },
      "source": [
        "II. Generate a 10x10 cell grid with 30 obstacle cells. Choose two random non-obstacle cells and find a shortest path between them using A* algorithm. Repeat the experiment 5 times with different random pair of cells. Analyze the results obtained."
      ]
    },
    {
      "cell_type": "code",
      "execution_count": 132,
      "metadata": {
        "id": "7w8EteDyousw"
      },
      "outputs": [],
      "source": [
        "def generate_cell_grid(shape, obsts_num):\n",
        "  '''\n",
        "  Generates a cell grid with obstacle cells\n",
        "\n",
        "  Params:\n",
        "  -------\n",
        "  shape: tuple, shape of a cell grid\n",
        "  obsts_num: int, number of obstacles\n",
        "\n",
        "  Output:\n",
        "  grid: 2D array, where 1s are the obstacle cells\n",
        "  obsts: array of integers, obstacles' indices\n",
        "  cells: array of integers, non-obstacles' indices\n",
        "  '''\n",
        "  grid = np.zeros(shape)\n",
        "  # Allocating a number for each cell for our convinience (that will help to consider them as nodes further)\n",
        "  cells = list(range(shape[0]*shape[1]))\n",
        "  # Picking random cells as obstacles\n",
        "  obsts = np.random.choice(range(shape[0]*shape[1]), obsts_num, replace=False)\n",
        "  i, j = 0, 0\n",
        "  for n in range(shape[0]*shape[1]):\n",
        "    if n in obsts:\n",
        "      grid[i][j] = 1\n",
        "      cells.remove(n)\n",
        "    j += 1\n",
        "    if j % shape[0] == 0:\n",
        "      i += 1\n",
        "      j = 0\n",
        "\n",
        "  return grid, obsts, cells"
      ]
    },
    {
      "cell_type": "code",
      "execution_count": 9,
      "metadata": {
        "id": "QMjvIeQGubrW"
      },
      "outputs": [],
      "source": [
        "def grid_to_grapgh(grid):\n",
        "    '''\n",
        "    Provides another way of visualizing a grid, where obstacle cells are equal to -1\n",
        "    and non-obstacles are equal to node numbers\n",
        "    Params:\n",
        "    -------\n",
        "    grid: 2D array, where 1s are the obstacle cells\n",
        "\n",
        "    Output:\n",
        "    result: 2D array, a transformed grid as written above\n",
        "    '''\n",
        "    shape =grid[0].shape\n",
        "    obsts = grid[1]\n",
        "    i, j = 0, 0\n",
        "    result = grid[0]\n",
        "    for n in range(shape[0]*shape[1]):\n",
        "      result[i][j] = n\n",
        "      if n in obsts:\n",
        "         result[i][j] = -1\n",
        "      j += 1\n",
        "      if j % shape[0] == 0:\n",
        "        i += 1\n",
        "        j = 0\n",
        "    return result"
      ]
    },
    {
      "cell_type": "code",
      "execution_count": 11,
      "metadata": {
        "id": "qMRzP1xdw_fe"
      },
      "outputs": [],
      "source": [
        "def grid_adj_list(grid):\n",
        "    '''\n",
        "    Makes an adjecencent list of a graph that is considered in a grid\n",
        "\n",
        "    Params:\n",
        "    grid: 2D array, where obstacle cells are equal to -1\n",
        "    and non-obstacles are equal to node numbers\n",
        "\n",
        "    Output:\n",
        "    res: 1D array, adjecency list\n",
        "\n",
        "    '''\n",
        "    shape =grid.shape\n",
        "    corners = [0, shape[0] - 1, shape[0]*shape[1] - shape[0], shape[0]*shape[1] - 1]\n",
        "    res = []\n",
        "    for n in range(shape[0]*shape[1]):\n",
        "        i, j = n // shape[0], n % shape[0]\n",
        "        curr = grid[i][j]\n",
        "        neighbours = set()\n",
        "        if curr < 0:\n",
        "            pr_neighbours = []\n",
        "        # corner check\n",
        "        elif curr in corners:\n",
        "            if curr == 0:\n",
        "                pr_neighbours = [grid[i][j+1], grid[i+1][j], grid[i+1][j+1]]\n",
        "            elif curr == corners[1]:\n",
        "                pr_neighbours = [grid[i][j-1], grid[i+1][j-1], grid[i+1][j]]\n",
        "            elif curr == corners[2]:\n",
        "                pr_neighbours = [grid[i-1][j], grid[i-1][j+1], grid[i][j+1]]\n",
        "            elif curr == corners[3]:\n",
        "                pr_neighbours = [grid[i-1][j-1], grid[i-1][j], grid[i][j-1]]\n",
        "        # border check\n",
        "        elif i == 0:\n",
        "            pr_neighbours = [grid[i][j-1], grid[i][j+1], grid[i+1][j-1], grid[i+1][j],  grid[i+1][j+1]]\n",
        "        elif i == shape[0] - 1:\n",
        "            pr_neighbours = [grid[i-1][j-1], grid[i-1][j], grid[i-1][j+1], grid[i][j-1], grid[i][j+1]]\n",
        "        elif j == 0:\n",
        "            pr_neighbours = [grid[i-1][j], grid[i-1][j+1], grid[i][j+1], grid[i+1][j],  grid[i+1][j+1]]\n",
        "        elif j == shape[1] - 1:\n",
        "            pr_neighbours = [grid[i-1][j-1], grid[i-1][j], grid[i][j-1], grid[i+1][j-1], grid[i+1][j]]\n",
        "        else:\n",
        "            pr_neighbours = [grid[i-1][j-1], grid[i-1][j], grid[i-1][j+1], grid[i][j-1], grid[i][j+1], grid[i+1][j-1], grid[i+1][j],  grid[i+1][j+1]]\n",
        "\n",
        "        for node in pr_neighbours:\n",
        "            if node > 0:\n",
        "                neighbours.add(node)\n",
        "\n",
        "        res.append(neighbours)\n",
        "\n",
        "    return res\n"
      ]
    },
    {
      "cell_type": "code",
      "execution_count": 14,
      "metadata": {
        "id": "yJexd-BUBF_t"
      },
      "outputs": [],
      "source": [
        "def adj_list_to_matrix(adj_list, shape):\n",
        "    '''\n",
        "    Transforms graph's adjecency list into adjecency matrix\n",
        "\n",
        "    Params:\n",
        "    adj_list: 1D array, adjecency list\n",
        "    shape: tuple, shape of a matrix to transform to (n*m must be equal to len(adj_list))\n",
        "\n",
        "    Output:\n",
        "    result: 2D array, adjecency matrix\n",
        "    '''\n",
        "    result = np.zeros((shape[0]*shape[1], shape[0]*shape[1]))\n",
        "    for i in range(shape[0]*shape[1]):\n",
        "        for j in range(shape[0]*shape[1]):\n",
        "          if i==j or adj_list[i] == set():\n",
        "              continue\n",
        "          else:\n",
        "              neighbours = adj_list[i]\n",
        "          if j in neighbours:\n",
        "              result[i][j] = 1\n",
        "    \n",
        "    return result    "
      ]
    },
    {
      "cell_type": "code",
      "execution_count": 157,
      "metadata": {
        "id": "JEa25aOejIIL"
      },
      "outputs": [],
      "source": [
        "def distance(p1, p2):\n",
        "    '''\n",
        "    Counts eucleadian distance\n",
        "    '''\n",
        "\n",
        "    res = math.sqrt( ((int(p1[0])-int(p2[0]))**2)+((int(p1[1])-int(p2[1]))**2) )\n",
        "\n",
        "    return res\n",
        "\n",
        "def coordinates(node, grid):\n",
        "    shape = grid[0].shape\n",
        "    i, j = node // shape[0], node % shape[0]\n",
        "    return i, j"
      ]
    },
    {
      "cell_type": "code",
      "execution_count": 192,
      "metadata": {
        "id": "8k74Cqfvu2e4"
      },
      "outputs": [],
      "source": [
        "def A_star(start, finish, adj_matrix):\n",
        "    '''\n",
        "    Finds the shortest path in a graph from start to finish by use of A* algorithm\n",
        "\n",
        "    Params:\n",
        "    start: integer, start node index\n",
        "    finish: integer, finish node index\n",
        "    adj_matrix: 2D array, graph's adjecency matrix\n",
        "\n",
        "    Output:\n",
        "    path: 1D array, the shortest route form start to finish\n",
        "    '''\n",
        "    adj_list = adj_matrix_to_list(adj_matrix)\n",
        "    c_t = coordinates(finish, grid)\n",
        "    c_s = coordinates(start, grid)\n",
        "    dists = {i: float('infinity') for i in range(len(adj_list))}\n",
        "    dists[start] = 0\n",
        "    spt = [(distance(c_s, c_t), start)] # format (distance, vertice)\n",
        "    path = []\n",
        "    new_node = -1\n",
        "\n",
        "    while new_node != finish:\n",
        "      new_dist, new_node = min(spt) # picking a new vertice\n",
        "      spt = [] #removing it from spt\n",
        "      path.append(new_node)\n",
        "\n",
        "      for neighbour in adj_list[new_node]:\n",
        "          weight = adj_matrix[new_node, neighbour]\n",
        "          g = dists[new_node] + weight\n",
        "          if g < dists[neighbour]:  # Updating distance values\n",
        "              dists[neighbour] = g\n",
        "\n",
        "          c_k = coordinates(neighbour, grid)\n",
        "          h = distance(c_k, c_t)\n",
        "          f = g + h\n",
        "          spt.append((f, neighbour))\n",
        "        \n",
        "    return path\n"
      ]
    },
    {
      "cell_type": "code",
      "execution_count": 147,
      "metadata": {
        "colab": {
          "base_uri": "https://localhost:8080/"
        },
        "id": "ZFUcnMc1Dmli",
        "outputId": "4959854e-0753-4e27-bad9-14ed44698ad5"
      },
      "outputs": [
        {
          "data": {
            "text/plain": [
              "array([[1., 0., 1., 0., 0., 0., 0., 0., 1., 0.],\n",
              "       [1., 1., 0., 0., 0., 0., 0., 0., 0., 0.],\n",
              "       [0., 0., 0., 0., 1., 0., 1., 0., 0., 0.],\n",
              "       [0., 1., 0., 1., 0., 0., 0., 0., 0., 0.],\n",
              "       [1., 0., 0., 0., 1., 0., 1., 0., 1., 1.],\n",
              "       [0., 1., 0., 1., 1., 0., 0., 0., 1., 1.],\n",
              "       [0., 0., 1., 0., 0., 1., 0., 1., 0., 1.],\n",
              "       [0., 0., 0., 1., 0., 1., 1., 0., 1., 0.],\n",
              "       [0., 0., 0., 0., 0., 0., 0., 0., 0., 1.],\n",
              "       [0., 0., 1., 0., 0., 0., 1., 0., 0., 0.]])"
            ]
          },
          "execution_count": 147,
          "metadata": {},
          "output_type": "execute_result"
        }
      ],
      "source": [
        "grid = generate_cell_grid((10, 10), 30)\n",
        "grid[0]"
      ]
    },
    {
      "cell_type": "code",
      "execution_count": 148,
      "metadata": {
        "id": "xi4k0IpuPhSN"
      },
      "outputs": [],
      "source": [
        "node_grid = grid_to_grapgh(grid)"
      ]
    },
    {
      "cell_type": "code",
      "execution_count": 151,
      "metadata": {
        "colab": {
          "base_uri": "https://localhost:8080/"
        },
        "id": "7_ax0bn0fjON",
        "outputId": "988463a4-d24d-41d8-e180-7ab4e40ab059"
      },
      "outputs": [
        {
          "data": {
            "text/plain": [
              "array([[-1.,  1., -1.,  3.,  4.,  5.,  6.,  7., -1.,  9.],\n",
              "       [-1., -1., 12., 13., 14., 15., 16., 17., 18., 19.],\n",
              "       [20., 21., 22., 23., -1., 25., -1., 27., 28., 29.],\n",
              "       [30., -1., 32., -1., 34., 35., 36., 37., 38., 39.],\n",
              "       [-1., 41., 42., 43., -1., 45., -1., 47., -1., -1.],\n",
              "       [50., -1., 52., -1., -1., 55., 56., 57., -1., -1.],\n",
              "       [60., 61., -1., 63., 64., -1., 66., -1., 68., -1.],\n",
              "       [70., 71., 72., -1., 74., -1., -1., 77., -1., 79.],\n",
              "       [80., 81., 82., 83., 84., 85., 86., 87., 88., -1.],\n",
              "       [90., 91., -1., 93., 94., 95., -1., 97., 98., 99.]])"
            ]
          },
          "execution_count": 151,
          "metadata": {},
          "output_type": "execute_result"
        }
      ],
      "source": [
        "node_grid"
      ]
    },
    {
      "cell_type": "code",
      "execution_count": 149,
      "metadata": {
        "id": "Yk6PAo2hfHxU"
      },
      "outputs": [],
      "source": [
        "graph_list = grid_adj_list(node_grid)"
      ]
    },
    {
      "cell_type": "code",
      "execution_count": 150,
      "metadata": {
        "id": "FXvS9RU2fQIm"
      },
      "outputs": [],
      "source": [
        "graph_m = adj_list_to_matrix(graph_list, (10,10))"
      ]
    },
    {
      "cell_type": "code",
      "execution_count": 193,
      "metadata": {
        "colab": {
          "base_uri": "https://localhost:8080/"
        },
        "id": "tgyG8MizmBmn",
        "outputId": "9ec9d0f7-713d-4ea5-dea2-2e0bf866764b"
      },
      "outputs": [
        {
          "name": "stdout",
          "output_type": "stream",
          "text": [
            "Expriment  0\n",
            "Chosen nodes(start-finish): 98 79\n",
            "Shortest route:  [98, 88, 79] \n",
            "\n",
            "Expriment  1\n",
            "Chosen nodes(start-finish): 7 81\n",
            "Shortest route:  [7, 16, 25, 34, 43, 52, 61, 71, 81] \n",
            "\n",
            "Expriment  2\n",
            "Chosen nodes(start-finish): 6 30\n",
            "Shortest route:  [6, 15, 14, 23, 32, 21, 30] \n",
            "\n",
            "Expriment  3\n",
            "Chosen nodes(start-finish): 35 47\n",
            "Shortest route:  [35, 36, 47] \n",
            "\n",
            "Expriment  4\n",
            "Chosen nodes(start-finish): 57 81\n",
            "Shortest route:  [57, 66, 55, 64, 63, 72, 81] \n",
            "\n"
          ]
        }
      ],
      "source": [
        "# Conducting 5 experiments by picking a pair of random points\n",
        "\n",
        "for i in range(5):\n",
        "  a, b = np.random.choice(grid[2], 2, replace=False) \n",
        "  print('Expriment ', i)\n",
        "  print('Chosen nodes(start-finish):', a, b)\n",
        "  result = A_star(a, b, graph_m)\n",
        "  print('Shortest route: ', result, '\\n')"
      ]
    }
  ],
  "metadata": {
    "colab": {
      "collapsed_sections": [],
      "name": "lab6_Koroleva.ipynb",
      "provenance": []
    },
    "kernelspec": {
      "display_name": "Python 3",
      "name": "python3"
    },
    "language_info": {
      "name": "python"
    }
  },
  "nbformat": 4,
  "nbformat_minor": 0
}
