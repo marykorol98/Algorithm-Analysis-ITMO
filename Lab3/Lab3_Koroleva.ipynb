{
  "nbformat": 4,
  "nbformat_minor": 0,
  "metadata": {
    "colab": {
      "name": "Lab3_Koroleva.ipynb",
      "provenance": [],
      "collapsed_sections": []
    },
    "kernelspec": {
      "name": "python3",
      "display_name": "Python 3"
    },
    "language_info": {
      "name": "python"
    }
  },
  "cells": [
    {
      "cell_type": "code",
      "execution_count": 8,
      "metadata": {
        "id": "yR8daV3B4Cfw"
      },
      "outputs": [],
      "source": [
        "import numpy as np\n",
        "import itertools\n",
        "import matplotlib.pyplot as plt\n",
        "import random\n",
        "from scipy import optimize\n",
        "from autograd import jacobian, grad\n",
        "import pandas as pd"
      ]
    },
    {
      "cell_type": "code",
      "source": [
        "eps = 0.001\n",
        "delta = np.random.randint(1, 100) / 100\n",
        "\n",
        "alpha = np.random.randint(1, 100) / 100\n",
        "betta = np.random.randint(1, 100) / 100\n",
        "\n",
        "k = np.array(list(range(0, 101)))\n",
        "X = np.array(list(map(lambda x: x/100, k)))\n",
        "Y= np.array([alpha*x + betta + np.random.normal(0, 1) \n",
        "               for i, x in enumerate(X)])\n",
        "\n",
        "f_lin = lambda x, point: point[0] * x + point[1]\n",
        "f_rat = lambda x, point: point[0] / (1 + point[1] * x)\n",
        "\n",
        "D = lambda args: sum([(args[0](x, args[1]) - y) ** 2 for x, y in zip(X, Y)])\n",
        "\n",
        "D_fun_linear   = lambda args: D((f_lin, args))\n",
        "D_fun_rational = lambda args: D((f_rat, args))"
      ],
      "metadata": {
        "id": "yH18gdG53Coi"
      },
      "execution_count": 9,
      "outputs": []
    },
    {
      "cell_type": "code",
      "source": [
        "results_lin = pd.DataFrame()\n",
        "results_lin['Algorithm name'] = ['Gradient descent', 'Conjugate gradient descent', 'Newton\\'s method', 'Levenberg-Marquardt algorithm', '*Exhaustive search', '*Gauss method', '*Nelder-Mead']\n",
        "results_lin.set_index('Algorithm name', inplace=True)\n",
        "results_lin.style.set_caption(\"Results of linear approximation\")\n",
        "\n",
        "header_list = ['Number of iters', 'Function min', 'Number of func calculations']\n",
        "results_lin = results_lin.reindex(columns = header_list) "
      ],
      "metadata": {
        "id": "F4-SkHAFSSsk"
      },
      "execution_count": 10,
      "outputs": []
    },
    {
      "cell_type": "code",
      "source": [
        "results_rat = pd.DataFrame()\n",
        "algs = ['Gradient descent', 'Conjugate gradient descent', 'Newton\\'s method', 'Levenberg-Marquardt algorithm', '*Exhaustive search', '*Gauss method', '*Nelder-Mead']\n",
        "results_rat['Algorithm name'] = algs\n",
        "results_rat.set_index('Algorithm name', inplace=True)\n",
        "results_rat.style.set_caption(\"Results of rational approximation\")\n",
        "\n",
        "header_list = ['Number of iters', 'Function min', 'Number of func calculations']\n",
        "results_rat = results_lin.reindex(columns = header_list) "
      ],
      "metadata": {
        "id": "pDttx0AbYQj7"
      },
      "execution_count": 11,
      "outputs": []
    },
    {
      "cell_type": "markdown",
      "metadata": {
        "id": "baEQlvPu1Zch"
      },
      "source": [
        "## Gradient descent"
      ]
    },
    {
      "cell_type": "code",
      "source": [
        "def golden_section(f, a, b, eps=eps):\n",
        "    x1 = a + (3 - 5**0.5)*(b - a)/2\n",
        "    x2 = b + (5**0.5 - 3)*(b - a)/2\n",
        "    i = 0\n",
        "    f1 = f(x1)\n",
        "    f2 = f(x2)\n",
        "    while np.abs(a - b) >= eps:\n",
        "        if f(x1) <= f(x2):\n",
        "            b = x2\n",
        "            x2 = x1\n",
        "            x1 = a + (3 - np.sqrt(5))/2*(b - a)\n",
        "            f2 = f1\n",
        "            f1 = f(x1)\n",
        "        else:\n",
        "            a = x1\n",
        "            x1 = x2\n",
        "            x2 = b + (np.sqrt(5) - 3)/2*(b - a)\n",
        "            f1 = f2\n",
        "            f2 = f(x2)\n",
        "        i += 1\n",
        "    return (a+b)/2, i + 2, i"
      ],
      "metadata": {
        "id": "wan1pk6kNlmH"
      },
      "execution_count": 12,
      "outputs": []
    },
    {
      "cell_type": "code",
      "execution_count": 13,
      "metadata": {
        "id": "8rwkPMdV1Zcj"
      },
      "outputs": [],
      "source": [
        "def gradient_descent(f, args):\n",
        "    f_min_previous = f(args)\n",
        "    args = np.random.randint(1, 100) / 100, np.random.randint(1, 100) / 100\n",
        "    f_min = f(args)\n",
        "    i = 0\n",
        "    while np.abs(f_min - f_min_previous) > eps:\n",
        "        f_min_previous = f_min\n",
        "        gradient = grad(f)\n",
        "\n",
        "        def one_dim_step(h):\n",
        "            return f(args - h * np.array(gradient(args)))\n",
        "        \n",
        "        h = golden_section(one_dim_step, 0, 1)[0]\n",
        "        args = args - h * np.array(gradient(args))\n",
        "        f_min = f(args - h * np.array(gradient(args)))\n",
        "        i += 1\n",
        "    return args[0], args[1], f_min, i+2, i"
      ]
    },
    {
      "cell_type": "code",
      "execution_count": 14,
      "metadata": {
        "scrolled": true,
        "id": "x52bUJAk1Zcj",
        "outputId": "c9435021-8918-49dc-8fc8-2c8a638fd71e",
        "colab": {
          "base_uri": "https://localhost:8080/"
        }
      },
      "outputs": [
        {
          "output_type": "stream",
          "name": "stdout",
          "text": [
            "CPU times: user 9.62 s, sys: 131 ms, total: 9.75 s\n",
            "Wall time: 9.57 s\n"
          ]
        }
      ],
      "source": [
        "%%time\n",
        "grad_lin_res = gradient_descent(D_fun_linear, [0, 0])\n",
        "grad_lin_res"
      ]
    },
    {
      "cell_type": "code",
      "source": [
        "num_of_iterations, func_value, func_count = grad_lin_res[3], round(grad_lin_res[2], 3), grad_lin_res[4]\n",
        "results_lin.loc[algs[0], :] = [num_of_iterations, func_value, func_count]"
      ],
      "metadata": {
        "id": "iFl25RHrT69v"
      },
      "execution_count": 15,
      "outputs": []
    },
    {
      "cell_type": "code",
      "execution_count": 16,
      "metadata": {
        "id": "1IxCbqRc1Zck",
        "colab": {
          "base_uri": "https://localhost:8080/"
        },
        "outputId": "1badcf20-d84c-4571-e9e2-b4751daeecbc"
      },
      "outputs": [
        {
          "output_type": "stream",
          "name": "stdout",
          "text": [
            "CPU times: user 13.4 s, sys: 116 ms, total: 13.6 s\n",
            "Wall time: 13.5 s\n"
          ]
        }
      ],
      "source": [
        "%%time\n",
        "grad_rat_res = gradient_descent(D_fun_rational, [0, 0])\n",
        "grad_rat_res"
      ]
    },
    {
      "cell_type": "code",
      "source": [
        "num_of_iterations, func_value, func_count = grad_rat_res[3], round(grad_rat_res[2], 3), grad_rat_res[4]\n",
        "results_rat.loc[algs[0], :] = [num_of_iterations, func_value, func_count]"
      ],
      "metadata": {
        "id": "f-ummFumd3sI"
      },
      "execution_count": 17,
      "outputs": []
    },
    {
      "cell_type": "code",
      "execution_count": 18,
      "metadata": {
        "id": "2ueJ8Ky41Zcl",
        "colab": {
          "base_uri": "https://localhost:8080/",
          "height": 607
        },
        "outputId": "39d2456f-5d13-447a-f8e5-9c79e7a6b2a6"
      },
      "outputs": [
        {
          "output_type": "display_data",
          "data": {
            "image/png": "[encoded data removed]",
            "text/plain": [
              "<Figure size 1440x720 with 2 Axes>"
            ]
          },
          "metadata": {
            "needs_background": "light"
          }
        }
      ],
      "source": [
        "fig, axes = plt.subplots(1, 2, figsize=(20, 10))\n",
        "\n",
        "axes.flat[0].plot(X, f_lin(X, (grad_lin_res[0], grad_lin_res[1])), color='red')\n",
        "axes.flat[0].scatter(X, Y)\n",
        "axes.flat[0].set_title('Gradient descent linear approximation')\n",
        "\n",
        "axes.flat[1].plot(X, f_rat(X, (grad_rat_res[0], grad_rat_res[1])), color='orange')\n",
        "axes.flat[1].scatter(X, Y)\n",
        "axes.flat[1].set_title('Gradient descent rational approximation');"
      ]
    },
    {
      "cell_type": "markdown",
      "metadata": {
        "id": "WdqoHbAT1Zcm"
      },
      "source": [
        "## Conjugate Gradient descent"
      ]
    },
    {
      "cell_type": "code",
      "execution_count": 19,
      "metadata": {
        "id": "3gqbGcrC1Zcm",
        "outputId": "0bf2d882-41c7-472c-e5bc-6a526c6048df",
        "colab": {
          "base_uri": "https://localhost:8080/"
        }
      },
      "outputs": [
        {
          "output_type": "execute_result",
          "data": {
            "text/plain": [
              "     fun: 101.40414728902289\n",
              "     jac: array([-5.72204590e-06, -9.53674316e-07])\n",
              " message: 'Optimization terminated successfully.'\n",
              "    nfev: 24\n",
              "     nit: 2\n",
              "    njev: 6\n",
              "  status: 0\n",
              " success: True\n",
              "       x: array([0.08306408, 0.29523403])"
            ]
          },
          "metadata": {},
          "execution_count": 19
        }
      ],
      "source": [
        "cg_lin_res = optimize.minimize(D_fun_linear, np.random.rand(2), method='CG', tol=0.001)\n",
        "cg_lin_res"
      ]
    },
    {
      "cell_type": "code",
      "source": [
        "num_of_iterations, func_value, func_count = cg_lin_res.nit, round(cg_lin_res.fun, 3), cg_lin_res.nfev\n",
        "results_lin.loc[algs[1], :] = [num_of_iterations, func_value, func_count]"
      ],
      "metadata": {
        "id": "6S2sB-VZeCNS"
      },
      "execution_count": 20,
      "outputs": []
    },
    {
      "cell_type": "code",
      "execution_count": 21,
      "metadata": {
        "id": "AtfsbpgR1Zcn",
        "outputId": "d44c85bd-9b1b-4d5a-f784-8c757cd9c01f",
        "colab": {
          "base_uri": "https://localhost:8080/"
        }
      },
      "outputs": [
        {
          "output_type": "execute_result",
          "data": {
            "text/plain": [
              "     fun: 101.40396425263755\n",
              "     jac: array([-4.38690186e-05,  2.28881836e-05])\n",
              " message: 'Optimization terminated successfully.'\n",
              "    nfev: 72\n",
              "     nit: 8\n",
              "    njev: 18\n",
              "  status: 0\n",
              " success: True\n",
              "       x: array([ 0.29781164, -0.22175293])"
            ]
          },
          "metadata": {},
          "execution_count": 21
        }
      ],
      "source": [
        "cg_rat_res = optimize.minimize(D_fun_rational, np.random.rand(2), method='CG', tol=0.001)\n",
        "cg_rat_res"
      ]
    },
    {
      "cell_type": "code",
      "source": [
        "num_of_iterations, func_value, func_count = cg_rat_res.nit, round(cg_rat_res.fun, 3), cg_rat_res.nfev\n",
        "results_rat.loc[algs[1], :] = [num_of_iterations, func_value, func_count]"
      ],
      "metadata": {
        "id": "w_-wECc7e1zS"
      },
      "execution_count": 22,
      "outputs": []
    },
    {
      "cell_type": "code",
      "execution_count": 23,
      "metadata": {
        "id": "4vcqjhhi1Zcn",
        "outputId": "f5cf986c-54fa-4298-9b75-f2e44398c832",
        "colab": {
          "base_uri": "https://localhost:8080/",
          "height": 607
        }
      },
      "outputs": [
        {
          "output_type": "display_data",
          "data": {
            "image/png": "[encoded data removed]",
            "text/plain": [
              "<Figure size 1440x720 with 2 Axes>"
            ]
          },
          "metadata": {
            "needs_background": "light"
          }
        }
      ],
      "source": [
        "fig, axes = plt.subplots(1, 2, figsize=(20, 10))\n",
        "\n",
        "axes.flat[0].plot(X, f_lin(X, cg_lin_res.x), color='purple')\n",
        "axes.flat[0].scatter(X, Y, color='k')\n",
        "axes.flat[0].set_title('Conjugate Gradient descent linear approximation')\n",
        "\n",
        "axes.flat[1].plot(X, f_rat(X, cg_rat_res.x), color='orange')\n",
        "axes.flat[1].scatter(X, Y, color='k')\n",
        "axes.flat[1].set_title('Conjugate Gradient descent rational approximation');"
      ]
    },
    {
      "cell_type": "markdown",
      "metadata": {
        "id": "-rqatoj01Zcn"
      },
      "source": [
        "## Newton's method"
      ]
    },
    {
      "cell_type": "code",
      "execution_count": 24,
      "metadata": {
        "scrolled": true,
        "id": "alEhVxCz1Zco",
        "outputId": "978a35a5-958a-4008-ce8a-f189fbab295e",
        "colab": {
          "base_uri": "https://localhost:8080/"
        }
      },
      "outputs": [
        {
          "output_type": "execute_result",
          "data": {
            "text/plain": [
              "     fun: 101.40414728902249\n",
              "     jac: array([9.23978630e-09, 1.30565105e-08])\n",
              " message: 'Warning: Desired error not necessarily achieved due to precision loss.'\n",
              "    nfev: 46\n",
              "    nhev: 0\n",
              "     nit: 3\n",
              "    njev: 52\n",
              "  status: 2\n",
              " success: False\n",
              "       x: array([0.08306428, 0.29523392])"
            ]
          },
          "metadata": {},
          "execution_count": 24
        }
      ],
      "source": [
        "ncg_lin_res = optimize.minimize(D_fun_linear, np.random.rand(2),jac=jacobian(D_fun_linear), \n",
        "                       method='Newton-CG', tol=0.001)\n",
        "ncg_lin_res"
      ]
    },
    {
      "cell_type": "code",
      "source": [
        "num_of_iterations, func_value, func_count = ncg_lin_res.nit, round(ncg_lin_res.fun, 3), ncg_lin_res.nfev\n",
        "results_lin.loc[algs[2], :] = [num_of_iterations, func_value, func_count]"
      ],
      "metadata": {
        "id": "iVyNiycsfVOP"
      },
      "execution_count": 25,
      "outputs": []
    },
    {
      "cell_type": "code",
      "execution_count": 26,
      "metadata": {
        "id": "6uBy3Kuo1Zco",
        "outputId": "eb94e36f-ad7a-48b5-b708-38ecfbc5a2e5",
        "colab": {
          "base_uri": "https://localhost:8080/"
        }
      },
      "outputs": [
        {
          "output_type": "execute_result",
          "data": {
            "text/plain": [
              "     fun: 101.40396425262846\n",
              "     jac: array([ 0.01520278, -0.00668315])\n",
              " message: 'Optimization terminated successfully.'\n",
              "    nfev: 13\n",
              "    nhev: 0\n",
              "     nit: 8\n",
              "    njev: 48\n",
              "  status: 0\n",
              " success: True\n",
              "       x: array([ 0.29781043, -0.22176131])"
            ]
          },
          "metadata": {},
          "execution_count": 26
        }
      ],
      "source": [
        "ncg_rat_res = optimize.minimize(D_fun_rational, np.random.rand(2),jac=jacobian(D_fun_rational), \n",
        "                       method='Newton-CG', tol=0.001)\n",
        "ncg_rat_res"
      ]
    },
    {
      "cell_type": "code",
      "source": [
        "num_of_iterations, func_value, func_count = ncg_rat_res.nit, round(ncg_rat_res.fun, 3), ncg_rat_res.nfev\n",
        "results_rat.loc[algs[2], :] = [num_of_iterations, func_value, func_count]"
      ],
      "metadata": {
        "id": "NDxh1fTpfhCC"
      },
      "execution_count": 27,
      "outputs": []
    },
    {
      "cell_type": "code",
      "execution_count": 28,
      "metadata": {
        "id": "9er0u5rh1Zco",
        "outputId": "6c1bdfab-a9f2-4e21-8a93-13d3217c1ca6",
        "colab": {
          "base_uri": "https://localhost:8080/",
          "height": 607
        }
      },
      "outputs": [
        {
          "output_type": "display_data",
          "data": {
            "image/png": "[encoded data removed]",
            "text/plain": [
              "<Figure size 1440x720 with 2 Axes>"
            ]
          },
          "metadata": {
            "needs_background": "light"
          }
        }
      ],
      "source": [
        "fig, axes = plt.subplots(1, 2, figsize=(20, 10))\n",
        "\n",
        "axes.flat[0].plot(X, f_lin(X, ncg_lin_res.x), color='purple')\n",
        "axes.flat[0].scatter(X, Y, color='k')\n",
        "axes.flat[0].set_title('Newton\\'s method linear approximation')\n",
        "\n",
        "axes.flat[1].plot(X, f_rat(X, ncg_rat_res.x), color='orange')\n",
        "axes.flat[1].scatter(X, Y, color='k')\n",
        "axes.flat[1].set_title('Newton\\'s method rational approximation');"
      ]
    },
    {
      "cell_type": "markdown",
      "metadata": {
        "id": "PSiBkx171Zcp"
      },
      "source": [
        "## Levenberg-Marquardt algorithm"
      ]
    },
    {
      "cell_type": "code",
      "execution_count": 29,
      "metadata": {
        "id": "PwPFKiPE1Zcp"
      },
      "outputs": [],
      "source": [
        "f_lin_ = lambda args, x, y: args[0] * x + args[1] - y\n",
        "f_rat_ = lambda args, x, y: args[0] / (1 + args[1] * x) - y"
      ]
    },
    {
      "cell_type": "code",
      "execution_count": 30,
      "metadata": {
        "id": "wL-UtcmH1Zcp"
      },
      "outputs": [],
      "source": [
        "lm_lin_res = optimize.least_squares(f_lin_, np.random.rand(2), args=(X, Y), method='lm')"
      ]
    },
    {
      "cell_type": "code",
      "source": [
        "num_of_iterations, func_value, func_count = '-', round(D_fun_linear(lm_lin_res.x), 3), lm_lin_res.nfev\n",
        "results_lin.loc[algs[3], :] = [num_of_iterations, func_value, func_count]"
      ],
      "metadata": {
        "id": "FzUu3eayfzHL"
      },
      "execution_count": 31,
      "outputs": []
    },
    {
      "cell_type": "code",
      "execution_count": 32,
      "metadata": {
        "id": "tnzH0MAU1Zcp"
      },
      "outputs": [],
      "source": [
        "lm_rat_res = optimize.least_squares(f_rat_, np.random.rand(2), args=(X, Y), method='lm')"
      ]
    },
    {
      "cell_type": "code",
      "source": [
        "num_of_iterations, func_value, func_count = '-', round(D_fun_linear(lm_rat_res.x), 3), lm_rat_res.nfev\n",
        "results_rat.loc[algs[3], :] = [num_of_iterations, func_value, func_count]"
      ],
      "metadata": {
        "id": "sDC_Gofrg4Hq"
      },
      "execution_count": 33,
      "outputs": []
    },
    {
      "cell_type": "code",
      "execution_count": 34,
      "metadata": {
        "id": "4eqWDQ7u1Zcq",
        "outputId": "797b8520-0684-423b-d52c-b9bbb293e6c2",
        "colab": {
          "base_uri": "https://localhost:8080/",
          "height": 607
        }
      },
      "outputs": [
        {
          "output_type": "display_data",
          "data": {
            "image/png": "[encoded data removed]",
            "text/plain": [
              "<Figure size 1440x720 with 2 Axes>"
            ]
          },
          "metadata": {
            "needs_background": "light"
          }
        }
      ],
      "source": [
        "fig, axes = plt.subplots(1, 2, figsize=(20, 10))\n",
        "\n",
        "axes.flat[0].plot(X, f_lin(X, lm_lin_res.x), color='purple')\n",
        "axes.flat[0].scatter(X, Y, color='k')\n",
        "axes.flat[0].set_title('Levenberg-Marquardt algorithm linear approximation')\n",
        "\n",
        "axes.flat[1].plot(X, f_rat(X, lm_rat_res.x), color='orange')\n",
        "axes.flat[1].scatter(X, Y, color='k')\n",
        "axes.flat[1].set_title('comma algorithm rational approximation');"
      ]
    },
    {
      "cell_type": "markdown",
      "source": [
        "# Lab 2 algorithms"
      ],
      "metadata": {
        "id": "yW8CPkxphyeY"
      }
    },
    {
      "cell_type": "code",
      "source": [
        "from itertools import product"
      ],
      "metadata": {
        "id": "RsDPqlHdhvn2"
      },
      "execution_count": 35,
      "outputs": []
    },
    {
      "cell_type": "code",
      "source": [
        "f_lin = lambda x, a, b: a * x + b\n",
        "f_rat = lambda x, a, b: a / (1 + b * x)\n",
        "\n",
        "D = lambda f, X, Y, a, b: sum([(f(x, a, b) - y) ** 2 for x, y in zip(X, Y)])"
      ],
      "metadata": {
        "id": "6y_9SQDfjPB6"
      },
      "execution_count": 36,
      "outputs": []
    },
    {
      "cell_type": "markdown",
      "source": [
        "## Exhaustive search"
      ],
      "metadata": {
        "id": "EVbtgCNqiNuu"
      }
    },
    {
      "cell_type": "code",
      "source": [
        "steps = np.arange(-1, 1.001, 0.001)\n",
        "\n",
        "def exhaustive_search_multi(f, X, Y, alpha, betta):\n",
        "    f_min = D(f, X, Y, alpha, betta)\n",
        "    alpha_res = 0\n",
        "    betta_res = 0\n",
        "    i = 0\n",
        "    for alpha, betta in list(product(steps, steps)):\n",
        "        curr_f = D(f, X, Y, alpha, betta)\n",
        "        if curr_f < f_min:\n",
        "            f_min = curr_f\n",
        "            alpha_res = alpha\n",
        "            betta_res = betta\n",
        "        i += 1\n",
        "    return [alpha_res, betta_res, f_min, i+1, i]"
      ],
      "metadata": {
        "id": "Xu5B4pydiMXS"
      },
      "execution_count": 37,
      "outputs": []
    },
    {
      "cell_type": "code",
      "source": [
        "%%time\n",
        "exh_lin_res = exhaustive_search_multi(f_lin, X, Y, 0, 0)\n",
        "exh_lin_res"
      ],
      "metadata": {
        "colab": {
          "base_uri": "https://localhost:8080/"
        },
        "id": "j4mPgBKsiivy",
        "outputId": "bc312003-3095-48b0-fe93-c9baf8ba083e"
      },
      "execution_count": 38,
      "outputs": [
        {
          "output_type": "stream",
          "name": "stdout",
          "text": [
            "CPU times: user 7min 22s, sys: 1.59 s, total: 7min 24s\n",
            "Wall time: 7min 24s\n"
          ]
        }
      ]
    },
    {
      "cell_type": "code",
      "source": [
        "num_of_iterations, func_value, func_count = exh_lin_res[3], round(exh_lin_res[2], 3), exh_lin_res[-1]\n",
        "results_lin.loc[algs[4], :] = [num_of_iterations, func_value, func_count]"
      ],
      "metadata": {
        "id": "gND-wDGQkwdv"
      },
      "execution_count": 41,
      "outputs": []
    },
    {
      "cell_type": "code",
      "source": [
        "%%time\n",
        "exh_rat_res = exhaustive_search_multi(f_rat, X, Y, 0, 0)\n",
        "exh_rat_res"
      ],
      "metadata": {
        "colab": {
          "base_uri": "https://localhost:8080/"
        },
        "id": "mkYjpLbHiybf",
        "outputId": "2598652e-1a51-4180-b240-9aa6cced718b"
      },
      "execution_count": 42,
      "outputs": [
        {
          "output_type": "stream",
          "name": "stderr",
          "text": [
            "/usr/local/lib/python3.7/dist-packages/ipykernel_launcher.py:2: RuntimeWarning: divide by zero encountered in double_scalars\n",
            "  \n"
          ]
        },
        {
          "output_type": "stream",
          "name": "stdout",
          "text": [
            "CPU times: user 9min 33s, sys: 1.16 s, total: 9min 34s\n",
            "Wall time: 9min 35s\n"
          ]
        }
      ]
    },
    {
      "cell_type": "code",
      "source": [
        "num_of_iterations, func_value, func_count = exh_rat_res[3], round(exh_rat_res[2], 3), exh_rat_res[-1]\n",
        "results_rat.loc[algs[4], :] = [num_of_iterations, func_value, func_count]"
      ],
      "metadata": {
        "id": "GfHeIHQOlReg"
      },
      "execution_count": 43,
      "outputs": []
    },
    {
      "cell_type": "code",
      "source": [
        "fig, axes = plt.subplots(1, 2, figsize=(20, 10))\n",
        "\n",
        "axes.flat[0].plot(X, f_lin(X, exh_lin_res[0], exh_lin_res[1]), color='purple')\n",
        "axes.flat[0].scatter(X, Y, color='k')\n",
        "axes.flat[0].set_title('Exhaustive search linear approximation')\n",
        "\n",
        "axes.flat[1].plot(X, f_rat(X, exh_rat_res[0], exh_rat_res[1]), color='orange')\n",
        "axes.flat[1].scatter(X, Y, color='k')\n",
        "axes.flat[1].set_title('Exhaustive search rational approximation');"
      ],
      "metadata": {
        "colab": {
          "base_uri": "https://localhost:8080/",
          "height": 607
        },
        "id": "HWlSK-Dsizin",
        "outputId": "33778c32-8a6a-4691-c074-2f6842d19580"
      },
      "execution_count": 44,
      "outputs": [
        {
          "output_type": "display_data",
          "data": {
            "image/png": "[encoded data removed]",
            "text/plain": [
              "<Figure size 1440x720 with 2 Axes>"
            ]
          },
          "metadata": {
            "needs_background": "light"
          }
        }
      ]
    },
    {
      "cell_type": "markdown",
      "source": [
        "## Gauss method"
      ],
      "metadata": {
        "id": "dZO9pP6Llc7Y"
      }
    },
    {
      "cell_type": "code",
      "source": [
        "# Gauss\n",
        "eps = 0.001\n",
        "\n",
        "def dichotomy_for_D(f, X, Y, a, b, a_opt, b_opt, par = 'a'):\n",
        "    i = 0\n",
        "    delta = np.random.uniform(0, eps)\n",
        "    \n",
        "    while np.abs(a - b) > eps:\n",
        "        x1 = (a + b - delta) / 2\n",
        "        x2 = (a + b + delta) / 2\n",
        "        f_1 = D(f, X, Y, x1, b_opt) if par == 'a' else D(f, X, Y, a_opt, x1)\n",
        "        f_2 = D(f, X, Y, x2, b_opt) if par == 'a' else D(f, X, Y, a_opt, x2)\n",
        "        \n",
        "        if f_1 <= f_2:\n",
        "            b = x2\n",
        "            fmin = f_1\n",
        "        else:\n",
        "            a = x1\n",
        "            fmin = f_2\n",
        "        i += 1\n",
        "    return x1, i*2, i\n",
        "\n",
        "def gauss(f, X, Y, z1 = 0, z2 = 0):\n",
        "    f_min_prev = D(f, X, Y, z1, z2)\n",
        "    z1_prev = z1\n",
        "    z1 =  dichotomy_for_D(f, X, Y, -1, 1 + eps, z1, z2)[0]\n",
        "    f_min = D(f, X, Y, z1, z2)\n",
        "    i = 1 + dichotomy_for_D(f, X, Y, -1, 1 + eps, z1, z2)[2]\n",
        "    j = 2 + dichotomy_for_D(f, X, Y, -1, 1 + eps, z1, z2)[1]\n",
        "    l = 1\n",
        "    while (np.abs(f_min - f_min_prev) >= eps) and (np.abs(z1 - z1_prev) >= eps):\n",
        "      if l % 2 == 0:\n",
        "          z1_prev = z1\n",
        "          z1 =  dichotomy_for_D(f, X, Y, -1, 1 + eps, z1, z2)[0]\n",
        "          f_min_prev = f_min\n",
        "          f_min = D(f, X, Y, z1, z2)\n",
        "          i += 1 + dichotomy_for_D(f, X, Y, -1, 1 + eps, z1, z2)[2]\n",
        "          j += 1 + dichotomy_for_D(f, X, Y, -1, 1 + eps, z1, z2)[1]\n",
        "      else:\n",
        "          z2_prev = z2\n",
        "          z2 =  dichotomy_for_D(f, X, Y, -1, 1 + eps, z1, z2, par = 'b')[0]\n",
        "          f_min_prev = f_min\n",
        "          f_min = D(f, X, Y, z1, z2)\n",
        "          i += 1 + dichotomy_for_D(f, X, Y, -1, 1 + eps, z1, z2, par = 'b')[2]\n",
        "          j += 1 + dichotomy_for_D(f, X, Y, -1, 1 + eps, z1, z2, par = 'b')[1]\n",
        "          if np.abs(z2 - z2_prev) < eps:\n",
        "              break\n",
        "      l += 1\n",
        "    return z1, z2, j, i\n"
      ],
      "metadata": {
        "id": "Evfv2_fjljmg"
      },
      "execution_count": 45,
      "outputs": []
    },
    {
      "cell_type": "code",
      "source": [
        "%%time\n",
        "F_linear_opt_2 = gauss(f_lin, X, Y, alpha, betta)"
      ],
      "metadata": {
        "colab": {
          "base_uri": "https://localhost:8080/"
        },
        "id": "eMjnP6iBaGdt",
        "outputId": "542a7c45-7997-422d-f43b-6aab0c530ed5"
      },
      "execution_count": 48,
      "outputs": [
        {
          "output_type": "stream",
          "name": "stdout",
          "text": [
            "CPU times: user 22.4 ms, sys: 0 ns, total: 22.4 ms\n",
            "Wall time: 22.8 ms\n"
          ]
        }
      ]
    },
    {
      "cell_type": "code",
      "source": [
        "num_of_iterations, func_value, func_count = F_linear_opt_2[3], round(D(f_lin, X, Y, F_linear_opt_2[0], F_linear_opt_2[1]), 3), F_linear_opt_2[-1]\n",
        "results_lin.loc[algs[5], :] = [num_of_iterations, func_value, func_count]"
      ],
      "metadata": {
        "id": "Jo6hg2rTmNOl"
      },
      "execution_count": 49,
      "outputs": []
    },
    {
      "cell_type": "code",
      "source": [
        "%%time\n",
        "F_rational_opt_2 = gauss(f_rat, X, Y, alpha, betta)"
      ],
      "metadata": {
        "colab": {
          "base_uri": "https://localhost:8080/"
        },
        "id": "VH-PHHi5ub_U",
        "outputId": "2c072309-e4fc-4812-a541-abff8d7d2722"
      },
      "execution_count": 50,
      "outputs": [
        {
          "output_type": "stream",
          "name": "stdout",
          "text": [
            "CPU times: user 214 ms, sys: 998 µs, total: 215 ms\n",
            "Wall time: 218 ms\n"
          ]
        }
      ]
    },
    {
      "cell_type": "code",
      "source": [
        "num_of_iterations, func_value, func_count = F_rational_opt_2[3], round(D(f_lin, X, Y, F_rational_opt_2[0], F_rational_opt_2[1]), 3), F_rational_opt_2[-1]\n",
        "results_rat.loc[algs[5], :] = [num_of_iterations, func_value, func_count]"
      ],
      "metadata": {
        "id": "WTbrspTkm4Ci"
      },
      "execution_count": 51,
      "outputs": []
    },
    {
      "cell_type": "code",
      "source": [
        "# Gauss method\n",
        "\n",
        "fig, axes = plt.subplots(1, 2, figsize=(20, 10))\n",
        "\n",
        "axes.flat[0].plot(X, f_lin(X, F_linear_opt_2[0], F_linear_opt_2[1]), color = 'red')\n",
        "axes.flat[0].scatter(X, Y)\n",
        "axes.flat[0].set_title('Gauss method linear approximation')\n",
        "\n",
        "\n",
        "axes.flat[1].plot(X, f_rat(X, F_rational_opt_2[0], F_rational_opt_2[1]), color = 'red')\n",
        "axes.flat[1].scatter(X, Y)\n",
        "axes.flat[1].set_title('Gauss method rational approximation')"
      ],
      "metadata": {
        "colab": {
          "base_uri": "https://localhost:8080/",
          "height": 625
        },
        "id": "CR7LRzx08wPx",
        "outputId": "41336cb4-7044-4c83-b0d3-c7cbca2a4908"
      },
      "execution_count": 54,
      "outputs": [
        {
          "output_type": "execute_result",
          "data": {
            "text/plain": [
              "Text(0.5, 1.0, 'Gauss method rational approximation')"
            ]
          },
          "metadata": {},
          "execution_count": 54
        },
        {
          "output_type": "display_data",
          "data": {
            "image/png": "[encoded data removed]",
            "text/plain": [
              "<Figure size 1440x720 with 2 Axes>"
            ]
          },
          "metadata": {
            "needs_background": "light"
          }
        }
      ]
    },
    {
      "cell_type": "markdown",
      "source": [
        "## Nelder-Mead"
      ],
      "metadata": {
        "id": "j_Aw5JgPl-2U"
      }
    },
    {
      "cell_type": "code",
      "source": [
        "# Nelder-Mead\n",
        "\n",
        "def F_linear_point(x, point):\n",
        "    return point[0]*x + point[1]\n",
        "\n",
        "def F_rational_point(x, point):\n",
        "    return point[0]/(1 + point[1]*x)\n",
        "\n",
        "def D_point(point, f, X, Y):\n",
        "    return sum([(f(x_i, point) - y_i)**2 for x_i, y_i in zip(X, Y)])\n",
        "\n",
        "\n",
        "def nelder_mead(f, X, Y):\n",
        "    result = optimize.minimize(D_point, np.random.rand(2), args=(f, X, Y), method ='nelder-mead')\n",
        "    return result\n",
        "    '''\n",
        "    i = 0\n",
        "    a = np.array([np.random.uniform(-1, eps), np.random.uniform(-1, eps), np.random.uniform(-1, eps)])\n",
        "    b = np.array([np.random.uniform(-1, eps), np.random.uniform(-1, eps), np.random.uniform(-1, eps)])\n",
        "    while True:\n",
        "        f =np.array([D(f, X, Y, a[0], b[0]), D(f, X, Y, a[1], b[1]), D(f, X, Y, a[2], b[2])])\n",
        "        f_l, f_g, f_h  = np.sort(f)[0], np.sort(f)[1], np.sort(f)[2]\n",
        "        h, g, l = np.where(np.isclose(f, f_h)), np.where(np.isclose(f, f_g)), np.where(np.isclose(f, f_l))\n",
        "        x_h = (a[h], b[h])\n",
        "        x_c = ((a[g]+ a[l])/2, (b[g] + b[l])/2)\n",
        "        x_r = (1 + alpha)*x_c - alpha*(a[h], b[h])\n",
        "        f_r = D(f, X, Y, x_r[0], x_r[1])\n",
        "        if f_r < f[2]:\n",
        "            x_e = (1 - gamma)*x_c + gamma*x_r\n",
        "            f_e = D(f, X, Y, x_e[0], x_e[1])\n",
        "            if f_e < f_r:\n",
        "                x_h = x_e\n",
        "            else:\n",
        "                x_h = x_r\n",
        "        elif f[l] < f_r and f_r < f[g]:\n",
        "            x_h = x_r\n",
        "        elif f[g] < f_r and f_r < f[h]:\n",
        "            x, y = x_r, f_r\n",
        "            x_r, f_r = x_h, f[h]\n",
        "            x_h, f[h] = x, y\n",
        "        \n",
        "        x_s = beta*x_h + (1 - beta)*x_c\n",
        "        f_s = D(f, X, Y, x_s[0], x_s[1])\n",
        "        if f_s < f[h]:\n",
        "            x_h = x_s\n",
        "    '''\n",
        "        \n",
        "\n",
        "\n"
      ],
      "metadata": {
        "id": "boRDqgb7o4Nu"
      },
      "execution_count": 58,
      "outputs": []
    },
    {
      "cell_type": "code",
      "source": [
        "%%time\n",
        "F_linear_opt_3 = nelder_mead(F_linear_point, X, Y)"
      ],
      "metadata": {
        "colab": {
          "base_uri": "https://localhost:8080/"
        },
        "id": "6pxK1Ip5taZr",
        "outputId": "179a0ed9-9fff-4bd8-aba7-55694a16dc20"
      },
      "execution_count": 59,
      "outputs": [
        {
          "output_type": "stream",
          "name": "stdout",
          "text": [
            "CPU times: user 13.7 ms, sys: 999 µs, total: 14.7 ms\n",
            "Wall time: 14.9 ms\n"
          ]
        }
      ]
    },
    {
      "cell_type": "code",
      "source": [
        "num_of_iterations, func_value, func_count = F_linear_opt_3.nit, round(F_linear_opt_3.fun, 3), F_linear_opt_3.nfev\n",
        "results_lin.loc[algs[6], :] = [num_of_iterations, func_value, func_count]"
      ],
      "metadata": {
        "id": "J7PQhRo5ndgx"
      },
      "execution_count": 61,
      "outputs": []
    },
    {
      "cell_type": "code",
      "source": [
        "%%time\n",
        "F_rational_opt_3 = nelder_mead(F_rational_point, X, Y)"
      ],
      "metadata": {
        "colab": {
          "base_uri": "https://localhost:8080/"
        },
        "outputId": "3397b2a2-b554-44cb-a0ad-5cec12b56906",
        "id": "ZghGOQBLzpOA"
      },
      "execution_count": 62,
      "outputs": [
        {
          "output_type": "stream",
          "name": "stdout",
          "text": [
            "CPU times: user 24.2 ms, sys: 0 ns, total: 24.2 ms\n",
            "Wall time: 28.5 ms\n"
          ]
        }
      ]
    },
    {
      "cell_type": "code",
      "source": [
        "num_of_iterations, func_value, func_count = F_rational_opt_3.nit, round(F_rational_opt_3.fun, 3), F_rational_opt_3.nfev\n",
        "results_rat.loc[algs[6], :] = [num_of_iterations, func_value, func_count]"
      ],
      "metadata": {
        "id": "MGj62Jz_qXGh"
      },
      "execution_count": 63,
      "outputs": []
    },
    {
      "cell_type": "code",
      "source": [
        "# Nelder-Mead\n",
        "\n",
        "fig, axes = plt.subplots(1, 2, figsize=(20, 10))\n",
        "\n",
        "axes.flat[0].plot(X, f_lin(X, F_linear_opt_3.x[0], F_linear_opt_3.x[1]), color = 'red')\n",
        "axes.flat[0].scatter(X, Y)\n",
        "axes.flat[0].set_title('Nelder-Mead linear approximation')\n",
        "\n",
        "\n",
        "axes.flat[1].plot(X, f_rat(X, F_rational_opt_3.x[0], F_rational_opt_3.x[1]), color = 'red')\n",
        "axes.flat[1].scatter(X, Y)\n",
        "axes.flat[1].set_title('Nelder-Mead method rational approximation')"
      ],
      "metadata": {
        "colab": {
          "base_uri": "https://localhost:8080/",
          "height": 625
        },
        "id": "fXyLnxN2o26N",
        "outputId": "5ba66558-da07-4438-aaaa-720f55bfaa94"
      },
      "execution_count": 65,
      "outputs": [
        {
          "output_type": "execute_result",
          "data": {
            "text/plain": [
              "Text(0.5, 1.0, 'Nelder-Mead method rational approximation')"
            ]
          },
          "metadata": {},
          "execution_count": 65
        },
        {
          "output_type": "display_data",
          "data": {
            "image/png": "[encoded data removed]",
            "text/plain": [
              "<Figure size 1440x720 with 2 Axes>"
            ]
          },
          "metadata": {
            "needs_background": "light"
          }
        }
      ]
    },
    {
      "cell_type": "markdown",
      "source": [
        "# Results"
      ],
      "metadata": {
        "id": "_twvCEWtqo5f"
      }
    },
    {
      "cell_type": "code",
      "source": [
        "results_lin"
      ],
      "metadata": {
        "colab": {
          "base_uri": "https://localhost:8080/",
          "height": 300
        },
        "id": "xFsvABdZqolj",
        "outputId": "bd2b4e4c-7731-4d67-eb1a-00cf4e9a1355"
      },
      "execution_count": 66,
      "outputs": [
        {
          "output_type": "execute_result",
          "data": {
            "text/html": [
              "\n",
              "  <div id=\"df-fe58975b-2cee-4d38-a162-334751b58e5d\">\n",
              "    <div class=\"colab-df-container\">\n",
              "      <div>\n",
              "<style scoped>\n",
              "    .dataframe tbody tr th:only-of-type {\n",
              "        vertical-align: middle;\n",
              "    }\n",
              "\n",
              "    .dataframe tbody tr th {\n",
              "        vertical-align: top;\n",
              "    }\n",
              "\n",
              "    .dataframe thead th {\n",
              "        text-align: right;\n",
              "    }\n",
              "</style>\n",
              "<table border=\"1\" class=\"dataframe\">\n",
              "  <thead>\n",
              "    <tr style=\"text-align: right;\">\n",
              "      <th></th>\n",
              "      <th>Number of iters</th>\n",
              "      <th>Function min</th>\n",
              "      <th>Number of func calculations</th>\n",
              "    </tr>\n",
              "    <tr>\n",
              "      <th>Algorithm name</th>\n",
              "      <th></th>\n",
              "      <th></th>\n",
              "      <th></th>\n",
              "    </tr>\n",
              "  </thead>\n",
              "  <tbody>\n",
              "    <tr>\n",
              "      <th>Gradient descent</th>\n",
              "      <td>8</td>\n",
              "      <td>101.405</td>\n",
              "      <td>6.0</td>\n",
              "    </tr>\n",
              "    <tr>\n",
              "      <th>Conjugate gradient descent</th>\n",
              "      <td>2</td>\n",
              "      <td>101.404</td>\n",
              "      <td>24.0</td>\n",
              "    </tr>\n",
              "    <tr>\n",
              "      <th>Newton's method</th>\n",
              "      <td>3</td>\n",
              "      <td>101.404</td>\n",
              "      <td>46.0</td>\n",
              "    </tr>\n",
              "    <tr>\n",
              "      <th>Levenberg-Marquardt algorithm</th>\n",
              "      <td>-</td>\n",
              "      <td>101.404</td>\n",
              "      <td>7.0</td>\n",
              "    </tr>\n",
              "    <tr>\n",
              "      <th>*Exhaustive search</th>\n",
              "      <td>4004002</td>\n",
              "      <td>101.404</td>\n",
              "      <td>4004001.0</td>\n",
              "    </tr>\n",
              "    <tr>\n",
              "      <th>*Gauss method</th>\n",
              "      <td>30</td>\n",
              "      <td>101.405</td>\n",
              "      <td>30.0</td>\n",
              "    </tr>\n",
              "    <tr>\n",
              "      <th>*Nelder-Mead</th>\n",
              "      <td>24</td>\n",
              "      <td>101.404</td>\n",
              "      <td>47.0</td>\n",
              "    </tr>\n",
              "  </tbody>\n",
              "</table>\n",
              "</div>\n",
              "      <button class=\"colab-df-convert\" onclick=\"convertToInteractive('df-fe58975b-2cee-4d38-a162-334751b58e5d')\"\n",
              "              title=\"Convert this dataframe to an interactive table.\"\n",
              "              style=\"display:none;\">\n",
              "        \n",
              "  <svg xmlns=\"http://www.w3.org/2000/svg\" height=\"24px\"viewBox=\"0 0 24 24\"\n",
              "       width=\"24px\">\n",
              "    <path d=\"M0 0h24v24H0V0z\" fill=\"none\"/>\n",
              "    <path d=\"M18.56 5.44l.94 2.06.94-2.06 2.06-.94-2.06-.94-.94-2.06-.94 2.06-2.06.94zm-11 1L8.5 8.5l.94-2.06 2.06-.94-2.06-.94L8.5 2.5l-.94 2.06-2.06.94zm10 10l.94 2.06.94-2.06 2.06-.94-2.06-.94-.94-2.06-.94 2.06-2.06.94z\"/><path d=\"M17.41 7.96l-1.37-1.37c-.4-.4-.92-.59-1.43-.59-.52 0-1.04.2-1.43.59L10.3 9.45l-7.72 7.72c-.78.78-.78 2.05 0 2.83L4 21.41c.39.39.9.59 1.41.59.51 0 1.02-.2 1.41-.59l7.78-7.78 2.81-2.81c.8-.78.8-2.07 0-2.86zM5.41 20L4 18.59l7.72-7.72 1.47 1.35L5.41 20z\"/>\n",
              "  </svg>\n",
              "      </button>\n",
              "      \n",
              "  <style>\n",
              "    .colab-df-container {\n",
              "      display:flex;\n",
              "      flex-wrap:wrap;\n",
              "      gap: 12px;\n",
              "    }\n",
              "\n",
              "    .colab-df-convert {\n",
              "      background-color: #E8F0FE;\n",
              "      border: none;\n",
              "      border-radius: 50%;\n",
              "      cursor: pointer;\n",
              "      display: none;\n",
              "      fill: #1967D2;\n",
              "      height: 32px;\n",
              "      padding: 0 0 0 0;\n",
              "      width: 32px;\n",
              "    }\n",
              "\n",
              "    .colab-df-convert:hover {\n",
              "      background-color: #E2EBFA;\n",
              "      box-shadow: 0px 1px 2px rgba(60, 64, 67, 0.3), 0px 1px 3px 1px rgba(60, 64, 67, 0.15);\n",
              "      fill: #174EA6;\n",
              "    }\n",
              "\n",
              "    [theme=dark] .colab-df-convert {\n",
              "      background-color: #3B4455;\n",
              "      fill: #D2E3FC;\n",
              "    }\n",
              "\n",
              "    [theme=dark] .colab-df-convert:hover {\n",
              "      background-color: #434B5C;\n",
              "      box-shadow: 0px 1px 3px 1px rgba(0, 0, 0, 0.15);\n",
              "      filter: drop-shadow(0px 1px 2px rgba(0, 0, 0, 0.3));\n",
              "      fill: #FFFFFF;\n",
              "    }\n",
              "  </style>\n",
              "\n",
              "      <script>\n",
              "        const buttonEl =\n",
              "          document.querySelector('#df-fe58975b-2cee-4d38-a162-334751b58e5d button.colab-df-convert');\n",
              "        buttonEl.style.display =\n",
              "          google.colab.kernel.accessAllowed ? 'block' : 'none';\n",
              "\n",
              "        async function convertToInteractive(key) {\n",
              "          const element = document.querySelector('#df-fe58975b-2cee-4d38-a162-334751b58e5d');\n",
              "          const dataTable =\n",
              "            await google.colab.kernel.invokeFunction('convertToInteractive',\n",
              "                                                     [key], {});\n",
              "          if (!dataTable) return;\n",
              "\n",
              "          const docLinkHtml = 'Like what you see? Visit the ' +\n",
              "            '<a target=\"_blank\" href=https://colab.research.google.com/notebooks/data_table.ipynb>data table notebook</a>'\n",
              "            + ' to learn more about interactive tables.';\n",
              "          element.innerHTML = '';\n",
              "          dataTable['output_type'] = 'display_data';\n",
              "          await google.colab.output.renderOutput(dataTable, element);\n",
              "          const docLink = document.createElement('div');\n",
              "          docLink.innerHTML = docLinkHtml;\n",
              "          element.appendChild(docLink);\n",
              "        }\n",
              "      </script>\n",
              "    </div>\n",
              "  </div>\n",
              "  "
            ],
            "text/plain": [
              "                              Number of iters  ...  Number of func calculations\n",
              "Algorithm name                                 ...                             \n",
              "Gradient descent                            8  ...                          6.0\n",
              "Conjugate gradient descent                  2  ...                         24.0\n",
              "Newton's method                             3  ...                         46.0\n",
              "Levenberg-Marquardt algorithm               -  ...                          7.0\n",
              "*Exhaustive search                    4004002  ...                    4004001.0\n",
              "*Gauss method                              30  ...                         30.0\n",
              "*Nelder-Mead                               24  ...                         47.0\n",
              "\n",
              "[7 rows x 3 columns]"
            ]
          },
          "metadata": {},
          "execution_count": 66
        }
      ]
    },
    {
      "cell_type": "code",
      "source": [
        "results_rat"
      ],
      "metadata": {
        "colab": {
          "base_uri": "https://localhost:8080/",
          "height": 300
        },
        "id": "D48ZQC16q3I6",
        "outputId": "d53faf1f-8ef2-4a93-cfd2-23095bdd57b3"
      },
      "execution_count": 67,
      "outputs": [
        {
          "output_type": "execute_result",
          "data": {
            "text/html": [
              "\n",
              "  <div id=\"df-81e4ac31-d08e-4b39-b58e-669d3c2a5549\">\n",
              "    <div class=\"colab-df-container\">\n",
              "      <div>\n",
              "<style scoped>\n",
              "    .dataframe tbody tr th:only-of-type {\n",
              "        vertical-align: middle;\n",
              "    }\n",
              "\n",
              "    .dataframe tbody tr th {\n",
              "        vertical-align: top;\n",
              "    }\n",
              "\n",
              "    .dataframe thead th {\n",
              "        text-align: right;\n",
              "    }\n",
              "</style>\n",
              "<table border=\"1\" class=\"dataframe\">\n",
              "  <thead>\n",
              "    <tr style=\"text-align: right;\">\n",
              "      <th></th>\n",
              "      <th>Number of iters</th>\n",
              "      <th>Function min</th>\n",
              "      <th>Number of func calculations</th>\n",
              "    </tr>\n",
              "    <tr>\n",
              "      <th>Algorithm name</th>\n",
              "      <th></th>\n",
              "      <th></th>\n",
              "      <th></th>\n",
              "    </tr>\n",
              "  </thead>\n",
              "  <tbody>\n",
              "    <tr>\n",
              "      <th>Gradient descent</th>\n",
              "      <td>10</td>\n",
              "      <td>101.677</td>\n",
              "      <td>8.0</td>\n",
              "    </tr>\n",
              "    <tr>\n",
              "      <th>Conjugate gradient descent</th>\n",
              "      <td>8</td>\n",
              "      <td>101.404</td>\n",
              "      <td>72.0</td>\n",
              "    </tr>\n",
              "    <tr>\n",
              "      <th>Newton's method</th>\n",
              "      <td>8</td>\n",
              "      <td>101.404</td>\n",
              "      <td>13.0</td>\n",
              "    </tr>\n",
              "    <tr>\n",
              "      <th>Levenberg-Marquardt algorithm</th>\n",
              "      <td>-</td>\n",
              "      <td>118.747</td>\n",
              "      <td>20.0</td>\n",
              "    </tr>\n",
              "    <tr>\n",
              "      <th>*Exhaustive search</th>\n",
              "      <td>4004002</td>\n",
              "      <td>101.404</td>\n",
              "      <td>4004001.0</td>\n",
              "    </tr>\n",
              "    <tr>\n",
              "      <th>*Gauss method</th>\n",
              "      <td>253</td>\n",
              "      <td>115.752</td>\n",
              "      <td>253.0</td>\n",
              "    </tr>\n",
              "    <tr>\n",
              "      <th>*Nelder-Mead</th>\n",
              "      <td>53</td>\n",
              "      <td>101.404</td>\n",
              "      <td>102.0</td>\n",
              "    </tr>\n",
              "  </tbody>\n",
              "</table>\n",
              "</div>\n",
              "      <button class=\"colab-df-convert\" onclick=\"convertToInteractive('df-81e4ac31-d08e-4b39-b58e-669d3c2a5549')\"\n",
              "              title=\"Convert this dataframe to an interactive table.\"\n",
              "              style=\"display:none;\">\n",
              "        \n",
              "  <svg xmlns=\"http://www.w3.org/2000/svg\" height=\"24px\"viewBox=\"0 0 24 24\"\n",
              "       width=\"24px\">\n",
              "    <path d=\"M0 0h24v24H0V0z\" fill=\"none\"/>\n",
              "    <path d=\"M18.56 5.44l.94 2.06.94-2.06 2.06-.94-2.06-.94-.94-2.06-.94 2.06-2.06.94zm-11 1L8.5 8.5l.94-2.06 2.06-.94-2.06-.94L8.5 2.5l-.94 2.06-2.06.94zm10 10l.94 2.06.94-2.06 2.06-.94-2.06-.94-.94-2.06-.94 2.06-2.06.94z\"/><path d=\"M17.41 7.96l-1.37-1.37c-.4-.4-.92-.59-1.43-.59-.52 0-1.04.2-1.43.59L10.3 9.45l-7.72 7.72c-.78.78-.78 2.05 0 2.83L4 21.41c.39.39.9.59 1.41.59.51 0 1.02-.2 1.41-.59l7.78-7.78 2.81-2.81c.8-.78.8-2.07 0-2.86zM5.41 20L4 18.59l7.72-7.72 1.47 1.35L5.41 20z\"/>\n",
              "  </svg>\n",
              "      </button>\n",
              "      \n",
              "  <style>\n",
              "    .colab-df-container {\n",
              "      display:flex;\n",
              "      flex-wrap:wrap;\n",
              "      gap: 12px;\n",
              "    }\n",
              "\n",
              "    .colab-df-convert {\n",
              "      background-color: #E8F0FE;\n",
              "      border: none;\n",
              "      border-radius: 50%;\n",
              "      cursor: pointer;\n",
              "      display: none;\n",
              "      fill: #1967D2;\n",
              "      height: 32px;\n",
              "      padding: 0 0 0 0;\n",
              "      width: 32px;\n",
              "    }\n",
              "\n",
              "    .colab-df-convert:hover {\n",
              "      background-color: #E2EBFA;\n",
              "      box-shadow: 0px 1px 2px rgba(60, 64, 67, 0.3), 0px 1px 3px 1px rgba(60, 64, 67, 0.15);\n",
              "      fill: #174EA6;\n",
              "    }\n",
              "\n",
              "    [theme=dark] .colab-df-convert {\n",
              "      background-color: #3B4455;\n",
              "      fill: #D2E3FC;\n",
              "    }\n",
              "\n",
              "    [theme=dark] .colab-df-convert:hover {\n",
              "      background-color: #434B5C;\n",
              "      box-shadow: 0px 1px 3px 1px rgba(0, 0, 0, 0.15);\n",
              "      filter: drop-shadow(0px 1px 2px rgba(0, 0, 0, 0.3));\n",
              "      fill: #FFFFFF;\n",
              "    }\n",
              "  </style>\n",
              "\n",
              "      <script>\n",
              "        const buttonEl =\n",
              "          document.querySelector('#df-81e4ac31-d08e-4b39-b58e-669d3c2a5549 button.colab-df-convert');\n",
              "        buttonEl.style.display =\n",
              "          google.colab.kernel.accessAllowed ? 'block' : 'none';\n",
              "\n",
              "        async function convertToInteractive(key) {\n",
              "          const element = document.querySelector('#df-81e4ac31-d08e-4b39-b58e-669d3c2a5549');\n",
              "          const dataTable =\n",
              "            await google.colab.kernel.invokeFunction('convertToInteractive',\n",
              "                                                     [key], {});\n",
              "          if (!dataTable) return;\n",
              "\n",
              "          const docLinkHtml = 'Like what you see? Visit the ' +\n",
              "            '<a target=\"_blank\" href=https://colab.research.google.com/notebooks/data_table.ipynb>data table notebook</a>'\n",
              "            + ' to learn more about interactive tables.';\n",
              "          element.innerHTML = '';\n",
              "          dataTable['output_type'] = 'display_data';\n",
              "          await google.colab.output.renderOutput(dataTable, element);\n",
              "          const docLink = document.createElement('div');\n",
              "          docLink.innerHTML = docLinkHtml;\n",
              "          element.appendChild(docLink);\n",
              "        }\n",
              "      </script>\n",
              "    </div>\n",
              "  </div>\n",
              "  "
            ],
            "text/plain": [
              "                              Number of iters  ...  Number of func calculations\n",
              "Algorithm name                                 ...                             \n",
              "Gradient descent                           10  ...                          8.0\n",
              "Conjugate gradient descent                  8  ...                         72.0\n",
              "Newton's method                             8  ...                         13.0\n",
              "Levenberg-Marquardt algorithm               -  ...                         20.0\n",
              "*Exhaustive search                    4004002  ...                    4004001.0\n",
              "*Gauss method                             253  ...                        253.0\n",
              "*Nelder-Mead                               53  ...                        102.0\n",
              "\n",
              "[7 rows x 3 columns]"
            ]
          },
          "metadata": {},
          "execution_count": 67
        }
      ]
    },
    {
      "cell_type": "code",
      "source": [
        "!pip install openpyxl"
      ],
      "metadata": {
        "colab": {
          "base_uri": "https://localhost:8080/"
        },
        "id": "wOkMmhDqrhKp",
        "outputId": "acfb9ad1-00a1-4213-c367-44b52e240050"
      },
      "execution_count": 68,
      "outputs": [
        {
          "output_type": "stream",
          "name": "stdout",
          "text": [
            "Requirement already satisfied: openpyxl in /usr/local/lib/python3.7/dist-packages (2.5.9)\n",
            "Requirement already satisfied: jdcal in /usr/local/lib/python3.7/dist-packages (from openpyxl) (1.4.1)\n",
            "Requirement already satisfied: et-xmlfile in /usr/local/lib/python3.7/dist-packages (from openpyxl) (1.1.0)\n"
          ]
        }
      ]
    },
    {
      "cell_type": "code",
      "source": [
        "writer = pd.ExcelWriter('results_lin.xlsx')\n",
        "results_lin.to_excel(writer)\n",
        "writer.save()\n"
      ],
      "metadata": {
        "id": "nb5Bf9Yvrlz_"
      },
      "execution_count": 69,
      "outputs": []
    },
    {
      "cell_type": "code",
      "source": [
        "writer_ = pd.ExcelWriter('results_rat.xlsx')\n",
        "results_rat.to_excel(writer_)\n",
        "writer_.save()\n"
      ],
      "metadata": {
        "id": "0gDJwoQmr8t7"
      },
      "execution_count": 70,
      "outputs": []
    }
  ]
}